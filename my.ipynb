{
 "cells": [
  {
   "cell_type": "markdown",
   "metadata": {},
   "source": [
    "#### 0. Utility methods"
   ]
  },
  {
   "cell_type": "code",
   "execution_count": 537,
   "metadata": {},
   "outputs": [],
   "source": [
    "import matplotlib.pyplot as plt\n",
    "import seaborn as sns\n",
    "\n",
    "def get_missing_value_percentage(data):\n",
    "    temp = (data.isnull().sum()/data.shape[0])*100\n",
    "    temp = temp[temp > 0]\n",
    "    return temp\n",
    "\n",
    "def draw_missing_value_percentage(data):\n",
    "    temp = get_missing_value_percentage(data)\n",
    "    plt.figure(figsize=(20,5))\n",
    "    plt.xticks(rotation = 90)\n",
    "    sns.barplot(temp)\n",
    "    plt.show()\n",
    "\n",
    "def set_na_to_median(data, column_name):\n",
    "    condition = data[column_name].isna()\n",
    "    median = data[column_name].median()\n",
    "    data.loc[condition, column_name] = median\n",
    "\n",
    "def set_na_to_value(data, column_name, value):\n",
    "    condition = data[column_name].isna()\n",
    "    data.loc[condition, column_name] = value"
   ]
  },
  {
   "cell_type": "markdown",
   "metadata": {},
   "source": [
    "# 1. Problem Statement"
   ]
  },
  {
   "cell_type": "markdown",
   "metadata": {},
   "source": [
    "- in the telecom industry, customers churn(leave the service by a provider)\n",
    "- the telecom industry has collected data for 3 months, there were churns in these 3 months.\n",
    "- as a data scientist, we need to identify the patterns and reasons of these churns using ML modelling techniques\n",
    "- the success of the model depends on the accuracy of predictions on the test(unseen) data. If we are able to predict the churn correctly for a reasonable number of customers in the unseen data, we can say which features impact the churn and what action items can be taken to reduce the churn(retain the customers)"
   ]
  },
  {
   "cell_type": "markdown",
   "metadata": {},
   "source": [
    "# 2. First look at the data "
   ]
  },
  {
   "cell_type": "markdown",
   "metadata": {},
   "source": [
    "## 2.1 Loading and looking at the dataset"
   ]
  },
  {
   "cell_type": "code",
   "execution_count": 398,
   "metadata": {},
   "outputs": [],
   "source": [
    "import numpy as np\n",
    "import pandas as pd\n",
    "import matplotlib.pyplot as plt\n",
    "import seaborn as sns\n",
    "\n",
    "data_dictionary = pd.read_csv('data_dictionary.csv')\n",
    "inp0 = pd.read_csv('train.csv')"
   ]
  },
  {
   "cell_type": "markdown",
   "metadata": {},
   "source": [
    "## 2.2 Shape"
   ]
  },
  {
   "cell_type": "code",
   "execution_count": 399,
   "metadata": {},
   "outputs": [
    {
     "data": {
      "text/plain": [
       "(69999, 172)"
      ]
     },
     "execution_count": 399,
     "metadata": {},
     "output_type": "execute_result"
    }
   ],
   "source": [
    "inp0.shape"
   ]
  },
  {
   "cell_type": "markdown",
   "metadata": {},
   "source": [
    "## 2.3 Column comprehension"
   ]
  },
  {
   "cell_type": "code",
   "execution_count": 400,
   "metadata": {},
   "outputs": [
    {
     "name": "stdout",
     "output_type": "stream",
     "text": [
      "(64,)\n",
      "Index(['aon', 'arpu', 'arpu_2g', 'arpu_3g', 'aug_vbc_3g', 'av_rech_amt_data',\n",
      "       'churn_probability', 'circle_id', 'count_rech_2g', 'count_rech_3g',\n",
      "       'date_of_last_rech', 'date_of_last_rech_data', 'fb_user', 'ic_others',\n",
      "       'id', 'isd_ic_mou', 'isd_og_mou', 'jul_vbc_3g', 'jun_vbc_3g',\n",
      "       'last_date_of_month', 'last_day_rch_amt', 'loc_ic_mou',\n",
      "       'loc_ic_t2f_mou', 'loc_ic_t2m_mou', 'loc_ic_t2o_mou', 'loc_ic_t2t_mou',\n",
      "       'loc_og_mou', 'loc_og_t2c_mou', 'loc_og_t2f_mou', 'loc_og_t2m_mou',\n",
      "       'loc_og_t2o_mou', 'loc_og_t2t_mou', 'max_rech_amt', 'max_rech_data',\n",
      "       'monthly_2g', 'monthly_3g', 'night_pck_user', 'offnet_mou', 'og_others',\n",
      "       'onnet_mou', 'roam_ic_mou', 'roam_og_mou', 'sachet_2g', 'sachet_3g',\n",
      "       'spl_ic_mou', 'spl_og_mou', 'std_ic_mou', 'std_ic_t2f_mou',\n",
      "       'std_ic_t2m_mou', 'std_ic_t2o_mou', 'std_ic_t2t_mou', 'std_og_mou',\n",
      "       'std_og_t2c_mou', 'std_og_t2f_mou', 'std_og_t2m_mou', 'std_og_t2o_mou',\n",
      "       'std_og_t2t_mou', 'total_ic_mou', 'total_og_mou', 'total_rech_amt',\n",
      "       'total_rech_data', 'total_rech_num', 'vol_2g_mb', 'vol_3g_mb'],\n",
      "      dtype='object')\n"
     ]
    }
   ],
   "source": [
    "data = inp0\n",
    "# a lot of columns have _6, _7, _8 in them, let's drop the suffix to understand what columns exist\n",
    "columns = data.columns\n",
    "columns = columns.str.replace('_6', '')\n",
    "columns = columns.str.replace('_7', '')\n",
    "columns = columns.str.replace('_8', '')\n",
    "print(columns.unique().shape)\n",
    "print(columns.unique().sort_values())"
   ]
  },
  {
   "cell_type": "code",
   "execution_count": 530,
   "metadata": {},
   "outputs": [
    {
     "data": {
      "text/html": [
       "<div>\n",
       "<style scoped>\n",
       "    .dataframe tbody tr th:only-of-type {\n",
       "        vertical-align: middle;\n",
       "    }\n",
       "\n",
       "    .dataframe tbody tr th {\n",
       "        vertical-align: top;\n",
       "    }\n",
       "\n",
       "    .dataframe thead th {\n",
       "        text-align: right;\n",
       "    }\n",
       "</style>\n",
       "<table border=\"1\" class=\"dataframe\">\n",
       "  <thead>\n",
       "    <tr style=\"text-align: right;\">\n",
       "      <th></th>\n",
       "      <th>aug_vbc_3g</th>\n",
       "      <th>jul_vbc_3g</th>\n",
       "      <th>jun_vbc_3g</th>\n",
       "    </tr>\n",
       "  </thead>\n",
       "  <tbody>\n",
       "    <tr>\n",
       "      <th>0</th>\n",
       "      <td>0.0</td>\n",
       "      <td>0.0</td>\n",
       "      <td>0.0</td>\n",
       "    </tr>\n",
       "    <tr>\n",
       "      <th>1</th>\n",
       "      <td>0.0</td>\n",
       "      <td>0.0</td>\n",
       "      <td>0.0</td>\n",
       "    </tr>\n",
       "    <tr>\n",
       "      <th>2</th>\n",
       "      <td>0.0</td>\n",
       "      <td>0.0</td>\n",
       "      <td>0.0</td>\n",
       "    </tr>\n",
       "    <tr>\n",
       "      <th>3</th>\n",
       "      <td>0.0</td>\n",
       "      <td>0.0</td>\n",
       "      <td>0.0</td>\n",
       "    </tr>\n",
       "    <tr>\n",
       "      <th>4</th>\n",
       "      <td>0.0</td>\n",
       "      <td>0.0</td>\n",
       "      <td>0.0</td>\n",
       "    </tr>\n",
       "  </tbody>\n",
       "</table>\n",
       "</div>"
      ],
      "text/plain": [
       "   aug_vbc_3g  jul_vbc_3g  jun_vbc_3g\n",
       "0         0.0         0.0         0.0\n",
       "1         0.0         0.0         0.0\n",
       "2         0.0         0.0         0.0\n",
       "3         0.0         0.0         0.0\n",
       "4         0.0         0.0         0.0"
      ]
     },
     "execution_count": 530,
     "metadata": {},
     "output_type": "execute_result"
    }
   ],
   "source": [
    "data = inp0\n",
    "# direction of calls => ic, og\n",
    "# type of calls => loc, std, isd, roam, spl, others\n",
    "# call between operators => within network(t2t, t2f, t2c), outside network(t2m, t2o)\n",
    "# mobile network band => 2g, 3g\n",
    "# loyalty related => aon\n",
    "# data usage related => vol_2g, vol_3g\n",
    "# calling usage related => mou => about 90 columns related to mou\n",
    "# money related => arpu, rech_amt\n",
    "# count related => rech_num, total_rech_data, count_rech_2g, count_rech_3g\n",
    "# other parameters => fb_user\n",
    "columns_to_select_1 = data.columns.str.contains('vbc')\n",
    "columns_to_select_2 = data.columns.str.contains('')\n",
    "\n",
    "data.loc[:, columns_to_select_1 & columns_to_select_2].head()"
   ]
  },
  {
   "cell_type": "code",
   "execution_count": 402,
   "metadata": {},
   "outputs": [
    {
     "data": {
      "text/html": [
       "<div>\n",
       "<style scoped>\n",
       "    .dataframe tbody tr th:only-of-type {\n",
       "        vertical-align: middle;\n",
       "    }\n",
       "\n",
       "    .dataframe tbody tr th {\n",
       "        vertical-align: top;\n",
       "    }\n",
       "\n",
       "    .dataframe thead th {\n",
       "        text-align: right;\n",
       "    }\n",
       "</style>\n",
       "<table border=\"1\" class=\"dataframe\">\n",
       "  <thead>\n",
       "    <tr style=\"text-align: right;\">\n",
       "      <th></th>\n",
       "      <th>Acronyms</th>\n",
       "      <th>Description</th>\n",
       "    </tr>\n",
       "  </thead>\n",
       "  <tbody>\n",
       "    <tr>\n",
       "      <th>0</th>\n",
       "      <td>CIRCLE_ID</td>\n",
       "      <td>Telecom circle area to which the customer belongs to</td>\n",
       "    </tr>\n",
       "    <tr>\n",
       "      <th>1</th>\n",
       "      <td>LOC</td>\n",
       "      <td>Local calls  within same telecom circle</td>\n",
       "    </tr>\n",
       "    <tr>\n",
       "      <th>2</th>\n",
       "      <td>STD</td>\n",
       "      <td>STD calls  outside the calling circle</td>\n",
       "    </tr>\n",
       "    <tr>\n",
       "      <th>3</th>\n",
       "      <td>IC</td>\n",
       "      <td>Incoming calls</td>\n",
       "    </tr>\n",
       "    <tr>\n",
       "      <th>4</th>\n",
       "      <td>OG</td>\n",
       "      <td>Outgoing calls</td>\n",
       "    </tr>\n",
       "    <tr>\n",
       "      <th>5</th>\n",
       "      <td>T2T</td>\n",
       "      <td>Operator T to T ie within same operator mobile to mobile</td>\n",
       "    </tr>\n",
       "    <tr>\n",
       "      <th>6</th>\n",
       "      <td>T2M</td>\n",
       "      <td>Operator T to other operator mobile</td>\n",
       "    </tr>\n",
       "    <tr>\n",
       "      <th>7</th>\n",
       "      <td>T2O</td>\n",
       "      <td>Operator T to other operator fixed line</td>\n",
       "    </tr>\n",
       "    <tr>\n",
       "      <th>8</th>\n",
       "      <td>T2F</td>\n",
       "      <td>Operator T to fixed lines of T</td>\n",
       "    </tr>\n",
       "    <tr>\n",
       "      <th>9</th>\n",
       "      <td>T2C</td>\n",
       "      <td>Operator T to its own call center</td>\n",
       "    </tr>\n",
       "    <tr>\n",
       "      <th>10</th>\n",
       "      <td>ARPU</td>\n",
       "      <td>Average revenue per user</td>\n",
       "    </tr>\n",
       "    <tr>\n",
       "      <th>11</th>\n",
       "      <td>MOU</td>\n",
       "      <td>Minutes of usage  voice calls</td>\n",
       "    </tr>\n",
       "    <tr>\n",
       "      <th>12</th>\n",
       "      <td>AON</td>\n",
       "      <td>Age on network  number of days the customer is using the operator T network</td>\n",
       "    </tr>\n",
       "    <tr>\n",
       "      <th>13</th>\n",
       "      <td>ONNET</td>\n",
       "      <td>All kind of calls within the same operator network</td>\n",
       "    </tr>\n",
       "    <tr>\n",
       "      <th>14</th>\n",
       "      <td>OFFNET</td>\n",
       "      <td>All kind of calls outside the operator T network</td>\n",
       "    </tr>\n",
       "    <tr>\n",
       "      <th>15</th>\n",
       "      <td>ROAM</td>\n",
       "      <td>Indicates that customer is in roaming zone during the call</td>\n",
       "    </tr>\n",
       "    <tr>\n",
       "      <th>16</th>\n",
       "      <td>SPL</td>\n",
       "      <td>Special calls</td>\n",
       "    </tr>\n",
       "    <tr>\n",
       "      <th>17</th>\n",
       "      <td>ISD</td>\n",
       "      <td>ISD calls</td>\n",
       "    </tr>\n",
       "    <tr>\n",
       "      <th>18</th>\n",
       "      <td>RECH</td>\n",
       "      <td>Recharge</td>\n",
       "    </tr>\n",
       "    <tr>\n",
       "      <th>19</th>\n",
       "      <td>NUM</td>\n",
       "      <td>Number</td>\n",
       "    </tr>\n",
       "    <tr>\n",
       "      <th>20</th>\n",
       "      <td>AMT</td>\n",
       "      <td>Amount in local currency</td>\n",
       "    </tr>\n",
       "    <tr>\n",
       "      <th>21</th>\n",
       "      <td>MAX</td>\n",
       "      <td>Maximum</td>\n",
       "    </tr>\n",
       "    <tr>\n",
       "      <th>22</th>\n",
       "      <td>DATA</td>\n",
       "      <td>Mobile internet</td>\n",
       "    </tr>\n",
       "    <tr>\n",
       "      <th>23</th>\n",
       "      <td>3G</td>\n",
       "      <td>G network</td>\n",
       "    </tr>\n",
       "    <tr>\n",
       "      <th>24</th>\n",
       "      <td>AV</td>\n",
       "      <td>Average</td>\n",
       "    </tr>\n",
       "    <tr>\n",
       "      <th>25</th>\n",
       "      <td>VOL</td>\n",
       "      <td>Mobile internet usage volume in MB</td>\n",
       "    </tr>\n",
       "    <tr>\n",
       "      <th>26</th>\n",
       "      <td>2G</td>\n",
       "      <td>G network</td>\n",
       "    </tr>\n",
       "    <tr>\n",
       "      <th>27</th>\n",
       "      <td>PCK</td>\n",
       "      <td>Prepaid service schemes called  PACKS</td>\n",
       "    </tr>\n",
       "    <tr>\n",
       "      <th>28</th>\n",
       "      <td>NIGHT</td>\n",
       "      <td>Scheme to use during specific night hours only</td>\n",
       "    </tr>\n",
       "    <tr>\n",
       "      <th>29</th>\n",
       "      <td>MONTHLY</td>\n",
       "      <td>Service schemes with validity equivalent to a month</td>\n",
       "    </tr>\n",
       "    <tr>\n",
       "      <th>30</th>\n",
       "      <td>SACHET</td>\n",
       "      <td>Service schemes with validity smaller than a month</td>\n",
       "    </tr>\n",
       "    <tr>\n",
       "      <th>31</th>\n",
       "      <td>*.6</td>\n",
       "      <td>KPI for the month of June</td>\n",
       "    </tr>\n",
       "    <tr>\n",
       "      <th>32</th>\n",
       "      <td>*.7</td>\n",
       "      <td>KPI for the month of July</td>\n",
       "    </tr>\n",
       "    <tr>\n",
       "      <th>33</th>\n",
       "      <td>*.8</td>\n",
       "      <td>KPI for the month of August</td>\n",
       "    </tr>\n",
       "    <tr>\n",
       "      <th>34</th>\n",
       "      <td>FB_USER</td>\n",
       "      <td>Service scheme to avail services of Facebook and similar social networking sites</td>\n",
       "    </tr>\n",
       "    <tr>\n",
       "      <th>35</th>\n",
       "      <td>VBC</td>\n",
       "      <td>Volume based cost  when no specific scheme is not purchased and paid as per usage</td>\n",
       "    </tr>\n",
       "  </tbody>\n",
       "</table>\n",
       "</div>"
      ],
      "text/plain": [
       "       Acronyms  \\\n",
       "0     CIRCLE_ID   \n",
       "1           LOC   \n",
       "2           STD   \n",
       "3            IC   \n",
       "4            OG   \n",
       "5           T2T   \n",
       "6       T2M       \n",
       "7       T2O       \n",
       "8       T2F       \n",
       "9       T2C       \n",
       "10     ARPU       \n",
       "11      MOU       \n",
       "12      AON       \n",
       "13     ONNET      \n",
       "14   OFFNET       \n",
       "15         ROAM   \n",
       "16       SPL      \n",
       "17      ISD       \n",
       "18     RECH       \n",
       "19      NUM       \n",
       "20      AMT       \n",
       "21      MAX       \n",
       "22     DATA       \n",
       "23       3G       \n",
       "24       AV       \n",
       "25      VOL       \n",
       "26       2G       \n",
       "27      PCK       \n",
       "28    NIGHT       \n",
       "29  MONTHLY       \n",
       "30    SACHET      \n",
       "31      *.6       \n",
       "32      *.7       \n",
       "33      *.8       \n",
       "34      FB_USER   \n",
       "35      VBC       \n",
       "\n",
       "                                                                          Description  \n",
       "0                                Telecom circle area to which the customer belongs to  \n",
       "1                                             Local calls  within same telecom circle  \n",
       "2                                               STD calls  outside the calling circle  \n",
       "3                                                                      Incoming calls  \n",
       "4                                                                      Outgoing calls  \n",
       "5                            Operator T to T ie within same operator mobile to mobile  \n",
       "6                                                 Operator T to other operator mobile  \n",
       "7                                             Operator T to other operator fixed line  \n",
       "8                                                      Operator T to fixed lines of T  \n",
       "9                                                   Operator T to its own call center  \n",
       "10                                                           Average revenue per user  \n",
       "11                                                      Minutes of usage  voice calls  \n",
       "12        Age on network  number of days the customer is using the operator T network  \n",
       "13                                 All kind of calls within the same operator network  \n",
       "14                                   All kind of calls outside the operator T network  \n",
       "15                         Indicates that customer is in roaming zone during the call  \n",
       "16                                                                      Special calls  \n",
       "17                                                                          ISD calls  \n",
       "18                                                                           Recharge  \n",
       "19                                                                             Number  \n",
       "20                                                           Amount in local currency  \n",
       "21                                                                            Maximum  \n",
       "22                                                                    Mobile internet  \n",
       "23                                                                          G network  \n",
       "24                                                                            Average  \n",
       "25                                                 Mobile internet usage volume in MB  \n",
       "26                                                                          G network  \n",
       "27                                              Prepaid service schemes called  PACKS  \n",
       "28                                     Scheme to use during specific night hours only  \n",
       "29                                Service schemes with validity equivalent to a month  \n",
       "30                                 Service schemes with validity smaller than a month  \n",
       "31                                                          KPI for the month of June  \n",
       "32                                                          KPI for the month of July  \n",
       "33                                                        KPI for the month of August  \n",
       "34   Service scheme to avail services of Facebook and similar social networking sites  \n",
       "35  Volume based cost  when no specific scheme is not purchased and paid as per usage  "
      ]
     },
     "execution_count": 402,
     "metadata": {},
     "output_type": "execute_result"
    }
   ],
   "source": [
    "data_dictionary"
   ]
  },
  {
   "cell_type": "markdown",
   "metadata": {},
   "source": [
    "## 2.3 Observations"
   ]
  },
  {
   "cell_type": "markdown",
   "metadata": {},
   "source": [
    "- there are about 172 columns, about 70k rows\n",
    "- the columns can be understood as follows\n",
    "    - direction of calls => ic, og\n",
    "    - type of calls => loc, std, isd, roam, spl, others\n",
    "    - call between operators => within network(t2t, t2f, t2c), outside network(t2m, t2o)\n",
    "    - mobile network band => 2g, 3g\n",
    "    - loyalty related => aon\n",
    "    - data usage related => vol_2g, vol_3g\n",
    "    - calling usage related => mou => about 90 columns related to mou\n",
    "    - money related => arpu, rech_amt\n",
    "    - type of recharges => nightly, sachet, monthly\n",
    "    - count related => rech_num, total_rech_data, count_rech_2g, count_rech_3g\n",
    "    - other parameters => fb_user"
   ]
  },
  {
   "cell_type": "markdown",
   "metadata": {},
   "source": [
    "# 3. Preparation, Pre-Processing"
   ]
  },
  {
   "cell_type": "markdown",
   "metadata": {},
   "source": [
    "## 3.1 Removal of columns with single value (one value and NaNs)"
   ]
  },
  {
   "cell_type": "code",
   "execution_count": 403,
   "metadata": {},
   "outputs": [
    {
     "name": "stdout",
     "output_type": "stream",
     "text": [
      "circle_id               1\n",
      "loc_og_t2o_mou          1\n",
      "std_og_t2o_mou          1\n",
      "loc_ic_t2o_mou          1\n",
      "last_date_of_month_6    1\n",
      "last_date_of_month_7    1\n",
      "last_date_of_month_8    1\n",
      "std_og_t2c_mou_6        1\n",
      "std_og_t2c_mou_7        1\n",
      "std_og_t2c_mou_8        1\n",
      "std_ic_t2o_mou_6        1\n",
      "std_ic_t2o_mou_7        1\n",
      "std_ic_t2o_mou_8        1\n",
      "dtype: int64\n"
     ]
    },
    {
     "data": {
      "text/html": [
       "<div>\n",
       "<style scoped>\n",
       "    .dataframe tbody tr th:only-of-type {\n",
       "        vertical-align: middle;\n",
       "    }\n",
       "\n",
       "    .dataframe tbody tr th {\n",
       "        vertical-align: top;\n",
       "    }\n",
       "\n",
       "    .dataframe thead th {\n",
       "        text-align: right;\n",
       "    }\n",
       "</style>\n",
       "<table border=\"1\" class=\"dataframe\">\n",
       "  <thead>\n",
       "    <tr style=\"text-align: right;\">\n",
       "      <th></th>\n",
       "      <th>circle_id</th>\n",
       "      <th>loc_og_t2o_mou</th>\n",
       "      <th>std_og_t2o_mou</th>\n",
       "      <th>loc_ic_t2o_mou</th>\n",
       "      <th>last_date_of_month_6</th>\n",
       "      <th>last_date_of_month_7</th>\n",
       "      <th>last_date_of_month_8</th>\n",
       "      <th>std_og_t2c_mou_6</th>\n",
       "      <th>std_og_t2c_mou_7</th>\n",
       "      <th>std_og_t2c_mou_8</th>\n",
       "      <th>std_ic_t2o_mou_6</th>\n",
       "      <th>std_ic_t2o_mou_7</th>\n",
       "      <th>std_ic_t2o_mou_8</th>\n",
       "    </tr>\n",
       "  </thead>\n",
       "  <tbody>\n",
       "    <tr>\n",
       "      <th>0</th>\n",
       "      <td>109</td>\n",
       "      <td>0.0</td>\n",
       "      <td>0.0</td>\n",
       "      <td>0.0</td>\n",
       "      <td>6/30/2014</td>\n",
       "      <td>7/31/2014</td>\n",
       "      <td>8/31/2014</td>\n",
       "      <td>0.0</td>\n",
       "      <td>0.0</td>\n",
       "      <td>0.0</td>\n",
       "      <td>0.0</td>\n",
       "      <td>0.0</td>\n",
       "      <td>0.0</td>\n",
       "    </tr>\n",
       "    <tr>\n",
       "      <th>1</th>\n",
       "      <td>109</td>\n",
       "      <td>0.0</td>\n",
       "      <td>0.0</td>\n",
       "      <td>0.0</td>\n",
       "      <td>6/30/2014</td>\n",
       "      <td>7/31/2014</td>\n",
       "      <td>8/31/2014</td>\n",
       "      <td>0.0</td>\n",
       "      <td>0.0</td>\n",
       "      <td>0.0</td>\n",
       "      <td>0.0</td>\n",
       "      <td>0.0</td>\n",
       "      <td>0.0</td>\n",
       "    </tr>\n",
       "    <tr>\n",
       "      <th>2</th>\n",
       "      <td>109</td>\n",
       "      <td>0.0</td>\n",
       "      <td>0.0</td>\n",
       "      <td>0.0</td>\n",
       "      <td>6/30/2014</td>\n",
       "      <td>7/31/2014</td>\n",
       "      <td>8/31/2014</td>\n",
       "      <td>0.0</td>\n",
       "      <td>0.0</td>\n",
       "      <td>0.0</td>\n",
       "      <td>0.0</td>\n",
       "      <td>0.0</td>\n",
       "      <td>0.0</td>\n",
       "    </tr>\n",
       "    <tr>\n",
       "      <th>3</th>\n",
       "      <td>109</td>\n",
       "      <td>0.0</td>\n",
       "      <td>0.0</td>\n",
       "      <td>0.0</td>\n",
       "      <td>6/30/2014</td>\n",
       "      <td>7/31/2014</td>\n",
       "      <td>8/31/2014</td>\n",
       "      <td>0.0</td>\n",
       "      <td>0.0</td>\n",
       "      <td>0.0</td>\n",
       "      <td>0.0</td>\n",
       "      <td>0.0</td>\n",
       "      <td>0.0</td>\n",
       "    </tr>\n",
       "    <tr>\n",
       "      <th>4</th>\n",
       "      <td>109</td>\n",
       "      <td>0.0</td>\n",
       "      <td>0.0</td>\n",
       "      <td>0.0</td>\n",
       "      <td>6/30/2014</td>\n",
       "      <td>7/31/2014</td>\n",
       "      <td>8/31/2014</td>\n",
       "      <td>0.0</td>\n",
       "      <td>0.0</td>\n",
       "      <td>0.0</td>\n",
       "      <td>0.0</td>\n",
       "      <td>0.0</td>\n",
       "      <td>0.0</td>\n",
       "    </tr>\n",
       "    <tr>\n",
       "      <th>...</th>\n",
       "      <td>...</td>\n",
       "      <td>...</td>\n",
       "      <td>...</td>\n",
       "      <td>...</td>\n",
       "      <td>...</td>\n",
       "      <td>...</td>\n",
       "      <td>...</td>\n",
       "      <td>...</td>\n",
       "      <td>...</td>\n",
       "      <td>...</td>\n",
       "      <td>...</td>\n",
       "      <td>...</td>\n",
       "      <td>...</td>\n",
       "    </tr>\n",
       "    <tr>\n",
       "      <th>69994</th>\n",
       "      <td>109</td>\n",
       "      <td>0.0</td>\n",
       "      <td>0.0</td>\n",
       "      <td>0.0</td>\n",
       "      <td>6/30/2014</td>\n",
       "      <td>7/31/2014</td>\n",
       "      <td>8/31/2014</td>\n",
       "      <td>0.0</td>\n",
       "      <td>0.0</td>\n",
       "      <td>0.0</td>\n",
       "      <td>0.0</td>\n",
       "      <td>0.0</td>\n",
       "      <td>0.0</td>\n",
       "    </tr>\n",
       "    <tr>\n",
       "      <th>69995</th>\n",
       "      <td>109</td>\n",
       "      <td>0.0</td>\n",
       "      <td>0.0</td>\n",
       "      <td>0.0</td>\n",
       "      <td>6/30/2014</td>\n",
       "      <td>7/31/2014</td>\n",
       "      <td>8/31/2014</td>\n",
       "      <td>0.0</td>\n",
       "      <td>0.0</td>\n",
       "      <td>0.0</td>\n",
       "      <td>0.0</td>\n",
       "      <td>0.0</td>\n",
       "      <td>0.0</td>\n",
       "    </tr>\n",
       "    <tr>\n",
       "      <th>69996</th>\n",
       "      <td>109</td>\n",
       "      <td>0.0</td>\n",
       "      <td>0.0</td>\n",
       "      <td>0.0</td>\n",
       "      <td>6/30/2014</td>\n",
       "      <td>7/31/2014</td>\n",
       "      <td>8/31/2014</td>\n",
       "      <td>0.0</td>\n",
       "      <td>0.0</td>\n",
       "      <td>0.0</td>\n",
       "      <td>0.0</td>\n",
       "      <td>0.0</td>\n",
       "      <td>0.0</td>\n",
       "    </tr>\n",
       "    <tr>\n",
       "      <th>69997</th>\n",
       "      <td>109</td>\n",
       "      <td>0.0</td>\n",
       "      <td>0.0</td>\n",
       "      <td>0.0</td>\n",
       "      <td>6/30/2014</td>\n",
       "      <td>7/31/2014</td>\n",
       "      <td>8/31/2014</td>\n",
       "      <td>0.0</td>\n",
       "      <td>0.0</td>\n",
       "      <td>0.0</td>\n",
       "      <td>0.0</td>\n",
       "      <td>0.0</td>\n",
       "      <td>0.0</td>\n",
       "    </tr>\n",
       "    <tr>\n",
       "      <th>69998</th>\n",
       "      <td>109</td>\n",
       "      <td>0.0</td>\n",
       "      <td>0.0</td>\n",
       "      <td>0.0</td>\n",
       "      <td>6/30/2014</td>\n",
       "      <td>7/31/2014</td>\n",
       "      <td>8/31/2014</td>\n",
       "      <td>0.0</td>\n",
       "      <td>0.0</td>\n",
       "      <td>0.0</td>\n",
       "      <td>0.0</td>\n",
       "      <td>0.0</td>\n",
       "      <td>0.0</td>\n",
       "    </tr>\n",
       "  </tbody>\n",
       "</table>\n",
       "<p>69999 rows × 13 columns</p>\n",
       "</div>"
      ],
      "text/plain": [
       "       circle_id  loc_og_t2o_mou  std_og_t2o_mou  loc_ic_t2o_mou  \\\n",
       "0            109             0.0             0.0             0.0   \n",
       "1            109             0.0             0.0             0.0   \n",
       "2            109             0.0             0.0             0.0   \n",
       "3            109             0.0             0.0             0.0   \n",
       "4            109             0.0             0.0             0.0   \n",
       "...          ...             ...             ...             ...   \n",
       "69994        109             0.0             0.0             0.0   \n",
       "69995        109             0.0             0.0             0.0   \n",
       "69996        109             0.0             0.0             0.0   \n",
       "69997        109             0.0             0.0             0.0   \n",
       "69998        109             0.0             0.0             0.0   \n",
       "\n",
       "      last_date_of_month_6 last_date_of_month_7 last_date_of_month_8  \\\n",
       "0                6/30/2014            7/31/2014            8/31/2014   \n",
       "1                6/30/2014            7/31/2014            8/31/2014   \n",
       "2                6/30/2014            7/31/2014            8/31/2014   \n",
       "3                6/30/2014            7/31/2014            8/31/2014   \n",
       "4                6/30/2014            7/31/2014            8/31/2014   \n",
       "...                    ...                  ...                  ...   \n",
       "69994            6/30/2014            7/31/2014            8/31/2014   \n",
       "69995            6/30/2014            7/31/2014            8/31/2014   \n",
       "69996            6/30/2014            7/31/2014            8/31/2014   \n",
       "69997            6/30/2014            7/31/2014            8/31/2014   \n",
       "69998            6/30/2014            7/31/2014            8/31/2014   \n",
       "\n",
       "       std_og_t2c_mou_6  std_og_t2c_mou_7  std_og_t2c_mou_8  std_ic_t2o_mou_6  \\\n",
       "0                   0.0               0.0               0.0               0.0   \n",
       "1                   0.0               0.0               0.0               0.0   \n",
       "2                   0.0               0.0               0.0               0.0   \n",
       "3                   0.0               0.0               0.0               0.0   \n",
       "4                   0.0               0.0               0.0               0.0   \n",
       "...                 ...               ...               ...               ...   \n",
       "69994               0.0               0.0               0.0               0.0   \n",
       "69995               0.0               0.0               0.0               0.0   \n",
       "69996               0.0               0.0               0.0               0.0   \n",
       "69997               0.0               0.0               0.0               0.0   \n",
       "69998               0.0               0.0               0.0               0.0   \n",
       "\n",
       "       std_ic_t2o_mou_7  std_ic_t2o_mou_8  \n",
       "0                   0.0               0.0  \n",
       "1                   0.0               0.0  \n",
       "2                   0.0               0.0  \n",
       "3                   0.0               0.0  \n",
       "4                   0.0               0.0  \n",
       "...                 ...               ...  \n",
       "69994               0.0               0.0  \n",
       "69995               0.0               0.0  \n",
       "69996               0.0               0.0  \n",
       "69997               0.0               0.0  \n",
       "69998               0.0               0.0  \n",
       "\n",
       "[69999 rows x 13 columns]"
      ]
     },
     "execution_count": 403,
     "metadata": {},
     "output_type": "execute_result"
    }
   ],
   "source": [
    "data = inp0\n",
    "temp = data.nunique() # gives unique count of all the columns\n",
    "unique_condition_1 = temp == 1 # which columns have just 1 unique value\n",
    "temp = temp[unique_condition_1]\n",
    "\n",
    "# verify single value\n",
    "print(temp)\n",
    "data[temp.index]"
   ]
  },
  {
   "cell_type": "code",
   "execution_count": 504,
   "metadata": {},
   "outputs": [],
   "source": [
    "data = inp0\n",
    "data['circle_id'].unique() # contains on 109, can be removed\n",
    "data = data.drop(columns=['circle_id'])\n",
    "\n",
    "data['loc_og_t2o_mou'].value_counts() # about 69k are 0 and remaining are nan, can be dropped\n",
    "data = data.drop(columns=['loc_og_t2o_mou'])\n",
    "\n",
    "data['std_og_t2o_mou'].value_counts() # about 69k are 0 and remaining are nan, can be dropped\n",
    "data = data.drop(columns=['std_og_t2o_mou'])\n",
    "\n",
    "data['loc_ic_t2o_mou'].value_counts() # about 69k are 0 and remaining are nan, can be dropped\n",
    "data = data.drop(columns=['loc_ic_t2o_mou'])\n",
    "\n",
    "data['std_og_t2c_mou_6'].value_counts() # about 67k are 0 and remaining are nan, can be dropped\n",
    "data = data.drop(columns=['std_og_t2c_mou_6'])\n",
    "\n",
    "data['std_og_t2c_mou_7'].value_counts() # about 67k are 0 and remaining are nan, can be dropped\n",
    "data = data.drop(columns=['std_og_t2c_mou_7'])\n",
    "\n",
    "data['std_og_t2c_mou_8'].value_counts() # about 66k are 0 and remaining are nan, can be dropped\n",
    "data = data.drop(columns=['std_og_t2c_mou_8'])\n",
    "\n",
    "data['std_ic_t2o_mou_6'].value_counts() # about 67k are 0 and remaining are nan, can be dropped\n",
    "data = data.drop(columns=['std_ic_t2o_mou_6'])\n",
    "\n",
    "data['std_ic_t2o_mou_7'].value_counts() # about 67k are 0 and remaining are nan, can be dropped\n",
    "data = data.drop(columns=['std_ic_t2o_mou_7'])\n",
    "\n",
    "data['std_ic_t2o_mou_8'].value_counts() # about 66k are 0 and remaining are nan, can be dropped\n",
    "data = data.drop(columns=['std_ic_t2o_mou_8'])\n",
    "\n",
    "data['last_date_of_month_6'].value_counts() # all of them have same value\n",
    "data = data.drop(columns=['last_date_of_month_6'])\n",
    "\n",
    "data['last_date_of_month_7'].value_counts() # about 69k have same value, remaining few are nan\n",
    "data = data.drop(columns=['last_date_of_month_7'])\n",
    "\n",
    "data['last_date_of_month_8'].value_counts() # about 69k have same value, remaining few are nan\n",
    "data = data.drop(columns=['last_date_of_month_8'])\n",
    "\n",
    "inp1 = data\n"
   ]
  },
  {
   "cell_type": "markdown",
   "metadata": {},
   "source": [
    "### 3.1.1 Observation\n",
    "- about 13 columns are dropped"
   ]
  },
  {
   "cell_type": "markdown",
   "metadata": {},
   "source": [
    "## 3.2 Change data type of datetime columns from object to datetime"
   ]
  },
  {
   "cell_type": "code",
   "execution_count": 505,
   "metadata": {},
   "outputs": [],
   "source": [
    "data = inp1\n",
    "data.select_dtypes(include=['object'])\n",
    "data['date_of_last_rech_6'] = pd.to_datetime(data['date_of_last_rech_6'])\n",
    "data['date_of_last_rech_7'] = pd.to_datetime(data['date_of_last_rech_7'])\n",
    "data['date_of_last_rech_8'] = pd.to_datetime(data['date_of_last_rech_8'])\n",
    "data['date_of_last_rech_data_6'] = pd.to_datetime(data['date_of_last_rech_data_6'])\n",
    "data['date_of_last_rech_data_7'] = pd.to_datetime(data['date_of_last_rech_data_7'])\n",
    "data['date_of_last_rech_data_8'] = pd.to_datetime(data['date_of_last_rech_data_8'])\n",
    "\n",
    "inp2 = data # the changes above are by reference, but just to be sure that in case we make a copy, inp1 is still updated\n"
   ]
  },
  {
   "cell_type": "markdown",
   "metadata": {},
   "source": [
    "## 3.3 Missing value treatment"
   ]
  },
  {
   "cell_type": "code",
   "execution_count": 506,
   "metadata": {},
   "outputs": [
    {
     "data": {
      "image/png": "[encoded data removed]",
      "text/plain": [
       "<Figure size 2000x500 with 1 Axes>"
      ]
     },
     "metadata": {},
     "output_type": "display_data"
    }
   ],
   "source": [
    "draw_missing_value_percentage(inp2)"
   ]
  },
  {
   "cell_type": "code",
   "execution_count": null,
   "metadata": {},
   "outputs": [
    {
     "data": {
      "image/png": "[encoded data removed]",
      "text/plain": [
       "<Figure size 2000x500 with 1 Axes>"
      ]
     },
     "metadata": {},
     "output_type": "display_data"
    }
   ],
   "source": [
    "# missing value imputation\n",
    "data = inp2\n",
    "\n",
    "# treat all mou columns to set na values to median\n",
    "temp = get_missing_value_percentage(inp1)\n",
    "mou_columns_with_na = temp.index[temp.index.str.contains('mou')]\n",
    "[set_na_to_median(data, column) for column in mou_columns_with_na]\n",
    "\n",
    "# treat all og_others, ic_others to set na values to median\n",
    "[set_na_to_median(data, column) for column in ['og_others_6', 'og_others_7', 'og_others_8','ic_others_6', 'ic_others_7', 'ic_others_8']]\n",
    "\n",
    "# treat all date_of_last_rech to set na values to median\n",
    "[set_na_to_median(data, column) for column in ['date_of_last_rech_6', 'date_of_last_rech_7', 'date_of_last_rech_8']]\n",
    "\n",
    "# set date_of_last_rech_data same as date_of_last_rech\n",
    "condition = data['date_of_last_rech_data_6'].isna()\n",
    "data.loc[condition, 'date_of_last_rech_data_6'] = data.loc[condition, 'date_of_last_rech_6']\n",
    "\n",
    "condition = data['date_of_last_rech_data_7'].isna()\n",
    "data.loc[condition, 'date_of_last_rech_data_7'] = data.loc[condition, 'date_of_last_rech_7']\n",
    "\n",
    "condition = data['date_of_last_rech_data_8'].isna()\n",
    "data.loc[condition, 'date_of_last_rech_data_8'] = data.loc[condition, 'date_of_last_rech_8']\n",
    "\n",
    "# treat all arpu_2g/3g to set na values to median\n",
    "[set_na_to_median(data, column) for column in ['arpu_2g_6', 'arpu_2g_7', 'arpu_2g_8', 'arpu_3g_6', 'arpu_3g_7', 'arpu_3g_8']]\n",
    "\n",
    "# treat all counts of recharges to set na values to 0\n",
    "[set_na_to_value(data, column, 0) for column in ['count_rech_2g_6', 'count_rech_2g_7', 'count_rech_2g_8', 'count_rech_3g_6', 'count_rech_3g_7', 'count_rech_3g_8']]\n",
    "\n",
    "# total_rech_data is a sum of count_rech_2g and count_rech_3g, replacing the value will correct the data and impute missing values\n",
    "data['total_rech_data_6'] = data['count_rech_2g_6'] + data['count_rech_3g_6']\n",
    "data['total_rech_data_7'] = data['count_rech_2g_7'] + data['count_rech_3g_7']\n",
    "data['total_rech_data_8'] = data['count_rech_2g_8'] + data['count_rech_3g_8']\n",
    "\n",
    "# if total_rech_data is 0 (no recharge was done), max_rech_data and av_rech_amt_data is also 0\n",
    "condition = data['total_rech_data_6'] == 0\n",
    "data.loc[condition, 'max_rech_data_6'] = 0\n",
    "data.loc[condition, 'av_rech_amt_data_6'] = 0\n",
    "\n",
    "condition = data['total_rech_data_7'] == 0\n",
    "data.loc[condition, 'max_rech_data_7'] = 0\n",
    "data.loc[condition, 'av_rech_amt_data_7'] = 0\n",
    "\n",
    "condition = data['total_rech_data_8'] == 0\n",
    "data.loc[condition, 'max_rech_data_8'] = 0\n",
    "data.loc[condition, 'av_rech_amt_data_8'] = 0\n",
    "\n",
    "# assuming fb_user, night_pck_user to be 0 if information isn't available and mode is NaN\n",
    "[set_na_to_value(data, column, 0) for column in ['fb_user_6', 'fb_user_7', 'fb_user_8','night_pck_user_6', 'night_pck_user_7', 'night_pck_user_8']]\n",
    "\n",
    "draw_missing_value_percentage(data)\n",
    "inp3 = data"
   ]
  },
  {
   "cell_type": "markdown",
   "metadata": {},
   "source": [
    "### 3.3.1 Observation\n",
    "- we have done some logical missing value imputations, we should validate the data with some sanity checks"
   ]
  },
  {
   "cell_type": "markdown",
   "metadata": {},
   "source": [
    "## 3.4 Removal of empty rows"
   ]
  },
  {
   "cell_type": "code",
   "execution_count": 527,
   "metadata": {},
   "outputs": [
    {
     "name": "stdout",
     "output_type": "stream",
     "text": [
      "% rows missing greater than 1% of data = 0%\n",
      "(0, 159)\n"
     ]
    },
    {
     "data": {
      "image/png": "[encoded data removed]",
      "text/plain": [
       "<Figure size 2000x500 with 1 Axes>"
      ]
     },
     "metadata": {},
     "output_type": "display_data"
    }
   ],
   "source": [
    "data = inp3\n",
    "threshold = 1\n",
    "temp = data.isnull().mean(axis=1)*100 > threshold\n",
    "print(f'% rows missing greater than {threshold}% of data = {round(data[temp].shape[0]*100/data.shape[0])}%')\n",
    "print(data[temp].shape)\n",
    "draw_missing_value_percentage(data[~temp])"
   ]
  },
  {
   "cell_type": "markdown",
   "metadata": {},
   "source": [
    "### 3.4.1 Observation\n",
    "- we don't need to remove rows as there is no missing value now."
   ]
  },
  {
   "cell_type": "markdown",
   "metadata": {},
   "source": [
    "## 3.5 Outlier treatment"
   ]
  },
  {
   "cell_type": "code",
   "execution_count": 564,
   "metadata": {},
   "outputs": [
    {
     "data": {
      "image/png": "[encoded data removed]",
      "text/plain": [
       "<Figure size 640x480 with 3 Axes>"
      ]
     },
     "metadata": {},
     "output_type": "display_data"
    },
    {
     "name": "stdout",
     "output_type": "stream",
     "text": [
      "data = (69999, 159), data[condition] = (69299, 159)\n"
     ]
    }
   ],
   "source": [
    "data = inp3\n",
    "\n",
    "def get_column_by_quantile(data, column_name, quantile):\n",
    "    condition = data[column_name] < data[column_name].quantile(quantile)\n",
    "    return data[condition]\n",
    "\n",
    "fig, axes = plt.subplots(nrows=1, ncols=3)\n",
    "sns.boxplot(data = get_column_by_quantile(data, 'arpu_6', 0.99), y='arpu_6', hue='churn_probability', ax=axes[0])\n",
    "plt.show()\n",
    "\n",
    "print(f'data = {data.shape}, data[condition] = {data[condition].shape}')"
   ]
  },
  {
   "cell_type": "markdown",
   "metadata": {},
   "source": [
    "## 3.6 Data loss"
   ]
  },
  {
   "cell_type": "code",
   "execution_count": 528,
   "metadata": {},
   "outputs": [
    {
     "name": "stdout",
     "output_type": "stream",
     "text": [
      "initial shape = (69999, 172)\n",
      "shape after cleaning = (69999, 159)\n",
      "data loss after cleaning = 0%\n"
     ]
    }
   ],
   "source": [
    "print(f'initial shape = {inp0.shape}')\n",
    "print(f'shape after cleaning = {inp3.shape}')\n",
    "print(f'data loss after cleaning = {round (100*(inp0.shape[0]-inp3.shape[0])/inp0.shape[0])}%')"
   ]
  },
  {
   "cell_type": "markdown",
   "metadata": {},
   "source": [
    "### 3.6.1 Observation\n",
    "- we don't have any data loss"
   ]
  },
  {
   "cell_type": "markdown",
   "metadata": {},
   "source": [
    "# Exploratory Data Analysis"
   ]
  },
  {
   "cell_type": "markdown",
   "metadata": {},
   "source": [
    "# Feature engineering and Variable Transformation"
   ]
  },
  {
   "cell_type": "markdown",
   "metadata": {},
   "source": [
    "# Modelling"
   ]
  },
  {
   "cell_type": "markdown",
   "metadata": {},
   "source": [
    "# Conclusions"
   ]
  }
 ],
 "metadata": {
  "kernelspec": {
   "display_name": "aimlenv",
   "language": "python",
   "name": "python3"
  },
  "language_info": {
   "codemirror_mode": {
    "name": "ipython",
    "version": 3
   },
   "file_extension": ".py",
   "mimetype": "text/x-python",
   "name": "python",
   "nbconvert_exporter": "python",
   "pygments_lexer": "ipython3",
   "version": "3.12.4"
  }
 },
 "nbformat": 4,
 "nbformat_minor": 2
}
