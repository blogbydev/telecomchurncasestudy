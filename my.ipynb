{
 "cells": [
  {
   "cell_type": "markdown",
   "metadata": {},
   "source": [
    "#### 0. Utility methods"
   ]
  },
  {
   "cell_type": "code",
   "execution_count": null,
   "metadata": {},
   "outputs": [],
   "source": [
    "import matplotlib.pyplot as plt\n",
    "import seaborn as sns\n",
    "\n",
    "def get_missing_value_percentage(data):\n",
    "    temp = (data.isnull().sum()/data.shape[0])*100\n",
    "    temp = temp[temp > 0]\n",
    "    return temp\n",
    "\n",
    "def draw_missing_value_percentage(data):\n",
    "    temp = get_missing_value_percentage(data)\n",
    "    plt.figure(figsize=(20,5))\n",
    "    plt.xticks(rotation = 90)\n",
    "    sns.barplot(temp)\n",
    "    plt.show()\n",
    "\n",
    "def set_na_to_median(data, column_name):\n",
    "    condition = data[column_name].isna()\n",
    "    median = data[column_name].median()\n",
    "    data.loc[condition, column_name] = median\n",
    "\n",
    "def set_na_to_value(data, column_name, value):\n",
    "    condition = data[column_name].isna()\n",
    "    data.loc[condition, column_name] = value\n",
    "\n",
    "def box_scatter(data, columns, hue, figsize=(20,5)):\n",
    "    fig, axes = plt.subplots(nrows=2, ncols=len(columns), figsize = figsize, sharey=True)\n",
    "    for i,v in enumerate(columns):\n",
    "        sns.boxplot(data = data, y = v, hue = hue, ax=axes[0][i])\n",
    "        axes[0][i].set_title(v)\n",
    "        sns.scatterplot(data = data, x=range(0, data.shape[0]), y = v, hue = hue, ax=axes[1][i])\n",
    "        axes[1][i].set_title(v)\n",
    "    plt.show()\n",
    "\n",
    "def box_scatter_describe(data, columns, hue, figsize=(20,5)):\n",
    "    box_scatter(data, columns, hue, figsize)\n",
    "    condition = data[hue] == 1\n",
    "    print(data[condition][columns].describe())\n",
    "\n",
    "def box_scatter_compare(old_data, new_data, columns, hue, figsize=(20,5)):\n",
    "    fig, axes = plt.subplots(nrows=4, ncols=len(columns), figsize = figsize, sharey=True)\n",
    "    for i,v in enumerate(columns):\n",
    "        sns.boxplot(data = old_data, y = v, hue = hue, ax=axes[0][i])\n",
    "        sns.scatterplot(data = old_data, x=range(0, old_data.shape[0]), y = v, hue = hue, ax=axes[1][i])\n",
    "        sns.boxplot(data = new_data, y = v, hue = hue, ax=axes[2][i])\n",
    "        sns.scatterplot(data = new_data, x=range(0, new_data.shape[0]), y = v, hue = hue, ax=axes[3][i])\n",
    "    plt.show()\n",
    "\n",
    "def get_quantiled_data(data, column_name, quantile):\n",
    "    condition = data[column_name] < data[column_name].quantile(quantile)    \n",
    "    temp = data[condition]\n",
    "    return temp\n",
    "\n",
    "def get_data_loss(old, new):\n",
    "    print(f'initial shape = {old.shape}')\n",
    "    print(f'shape after cleaning = {new.shape}')\n",
    "    print(f'data loss after cleaning = {round (100*(old.shape[0]-new.shape[0])/old.shape[0])}%')\n",
    "\n",
    "\n"
   ]
  },
  {
   "cell_type": "markdown",
   "metadata": {},
   "source": [
    "# 1. Problem Statement"
   ]
  },
  {
   "cell_type": "markdown",
   "metadata": {},
   "source": [
    "- in the telecom industry, customers churn(leave the service by a provider)\n",
    "- the telecom industry has collected data for 3 months, there were churns in these 3 months.\n",
    "- as a data scientist, we need to identify the patterns and reasons of these churns using ML modelling techniques\n",
    "- the success of the model depends on the accuracy of predictions on the test(unseen) data. If we are able to predict the churn correctly for a reasonable number of customers in the unseen data, we can say which features impact the churn and what action items can be taken to reduce the churn(retain the customers)"
   ]
  },
  {
   "cell_type": "markdown",
   "metadata": {},
   "source": [
    "# 2. First look at the data "
   ]
  },
  {
   "cell_type": "markdown",
   "metadata": {},
   "source": [
    "## 2.1 Loading and looking at the dataset"
   ]
  },
  {
   "cell_type": "code",
   "execution_count": null,
   "metadata": {},
   "outputs": [],
   "source": [
    "import numpy as np\n",
    "import pandas as pd\n",
    "import matplotlib.pyplot as plt\n",
    "import seaborn as sns\n",
    "\n",
    "data_dictionary = pd.read_csv('data_dictionary.csv')\n",
    "inp0 = pd.read_csv('train.csv')"
   ]
  },
  {
   "cell_type": "markdown",
   "metadata": {},
   "source": [
    "## 2.2 Shape"
   ]
  },
  {
   "cell_type": "code",
   "execution_count": null,
   "metadata": {},
   "outputs": [],
   "source": [
    "inp0.shape"
   ]
  },
  {
   "cell_type": "markdown",
   "metadata": {},
   "source": [
    "## 2.3 Column comprehension"
   ]
  },
  {
   "cell_type": "code",
   "execution_count": null,
   "metadata": {},
   "outputs": [],
   "source": [
    "data = inp0\n",
    "# a lot of columns have _6, _7, _8 in them, let's drop the suffix to understand what columns exist\n",
    "columns = data.columns\n",
    "columns = columns.str.replace('_6', '')\n",
    "columns = columns.str.replace('_7', '')\n",
    "columns = columns.str.replace('_8', '')\n",
    "print(columns.unique().shape)\n",
    "print(columns.unique().sort_values())"
   ]
  },
  {
   "cell_type": "code",
   "execution_count": null,
   "metadata": {},
   "outputs": [],
   "source": [
    "data = inp0\n",
    "# direction of calls => ic, og\n",
    "# type of calls => loc, std, isd, roam, spl, others\n",
    "# call between operators => within network(t2t, t2f, t2c), outside network(t2m, t2o)\n",
    "# mobile network band => 2g, 3g\n",
    "# loyalty related => aon\n",
    "# data usage related => vol_2g, vol_3g\n",
    "# calling usage related => mou => about 90 columns related to mou\n",
    "# money related => arpu, rech_amt\n",
    "# count related => rech_num, total_rech_data, count_rech_2g, count_rech_3g\n",
    "# other parameters => fb_user\n",
    "columns_to_select_1 = data.columns.str.contains('vbc')\n",
    "columns_to_select_2 = data.columns.str.contains('')\n",
    "\n",
    "data.loc[:, columns_to_select_1 & columns_to_select_2].head()"
   ]
  },
  {
   "cell_type": "code",
   "execution_count": null,
   "metadata": {},
   "outputs": [],
   "source": [
    "data_dictionary"
   ]
  },
  {
   "cell_type": "markdown",
   "metadata": {},
   "source": [
    "## 2.3 Observations"
   ]
  },
  {
   "cell_type": "markdown",
   "metadata": {},
   "source": [
    "- there are about 172 columns, about 70k rows\n",
    "- the columns can be understood as follows\n",
    "    - direction of calls => ic, og\n",
    "    - type of calls => loc, std, isd, roam, spl, others\n",
    "    - call between operators => within network(t2t, t2f, t2c), outside network(t2m, t2o)\n",
    "    - mobile network band => 2g, 3g\n",
    "    - loyalty related => aon\n",
    "    - data usage related => vol_2g, vol_3g\n",
    "    - calling usage related => mou => about 90 columns related to mou\n",
    "    - money related => arpu, rech_amt\n",
    "    - type of recharges => nightly, sachet, monthly\n",
    "    - count related => rech_num, total_rech_data, count_rech_2g, count_rech_3g\n",
    "    - other parameters => fb_user"
   ]
  },
  {
   "cell_type": "markdown",
   "metadata": {},
   "source": [
    "# 3. Preparation, Pre-Processing"
   ]
  },
  {
   "cell_type": "markdown",
   "metadata": {},
   "source": [
    "## 3.1 Removal of columns with single value (one value and NaNs)"
   ]
  },
  {
   "cell_type": "code",
   "execution_count": null,
   "metadata": {},
   "outputs": [],
   "source": [
    "data = inp0\n",
    "temp = data.nunique() # gives unique count of all the columns\n",
    "unique_condition_1 = temp == 1 # which columns have just 1 unique value\n",
    "temp = temp[unique_condition_1]\n",
    "\n",
    "# verify single value\n",
    "print(temp)\n",
    "data[temp.index]"
   ]
  },
  {
   "cell_type": "code",
   "execution_count": null,
   "metadata": {},
   "outputs": [],
   "source": [
    "data = inp0\n",
    "data['circle_id'].unique() # contains on 109, can be removed\n",
    "data = data.drop(columns=['circle_id'])\n",
    "\n",
    "data['loc_og_t2o_mou'].value_counts() # about 69k are 0 and remaining are nan, can be dropped\n",
    "data = data.drop(columns=['loc_og_t2o_mou'])\n",
    "\n",
    "data['std_og_t2o_mou'].value_counts() # about 69k are 0 and remaining are nan, can be dropped\n",
    "data = data.drop(columns=['std_og_t2o_mou'])\n",
    "\n",
    "data['loc_ic_t2o_mou'].value_counts() # about 69k are 0 and remaining are nan, can be dropped\n",
    "data = data.drop(columns=['loc_ic_t2o_mou'])\n",
    "\n",
    "data['std_og_t2c_mou_6'].value_counts() # about 67k are 0 and remaining are nan, can be dropped\n",
    "data = data.drop(columns=['std_og_t2c_mou_6'])\n",
    "\n",
    "data['std_og_t2c_mou_7'].value_counts() # about 67k are 0 and remaining are nan, can be dropped\n",
    "data = data.drop(columns=['std_og_t2c_mou_7'])\n",
    "\n",
    "data['std_og_t2c_mou_8'].value_counts() # about 66k are 0 and remaining are nan, can be dropped\n",
    "data = data.drop(columns=['std_og_t2c_mou_8'])\n",
    "\n",
    "data['std_ic_t2o_mou_6'].value_counts() # about 67k are 0 and remaining are nan, can be dropped\n",
    "data = data.drop(columns=['std_ic_t2o_mou_6'])\n",
    "\n",
    "data['std_ic_t2o_mou_7'].value_counts() # about 67k are 0 and remaining are nan, can be dropped\n",
    "data = data.drop(columns=['std_ic_t2o_mou_7'])\n",
    "\n",
    "data['std_ic_t2o_mou_8'].value_counts() # about 66k are 0 and remaining are nan, can be dropped\n",
    "data = data.drop(columns=['std_ic_t2o_mou_8'])\n",
    "\n",
    "data['last_date_of_month_6'].value_counts() # all of them have same value\n",
    "data = data.drop(columns=['last_date_of_month_6'])\n",
    "\n",
    "data['last_date_of_month_7'].value_counts() # about 69k have same value, remaining few are nan\n",
    "data = data.drop(columns=['last_date_of_month_7'])\n",
    "\n",
    "data['last_date_of_month_8'].value_counts() # about 69k have same value, remaining few are nan\n",
    "data = data.drop(columns=['last_date_of_month_8'])\n",
    "\n",
    "inp1 = data\n"
   ]
  },
  {
   "cell_type": "markdown",
   "metadata": {},
   "source": [
    "### 3.1.1 Observation\n",
    "- about 13 columns are dropped"
   ]
  },
  {
   "cell_type": "markdown",
   "metadata": {},
   "source": [
    "## 3.2 Change data type of datetime columns from object to datetime"
   ]
  },
  {
   "cell_type": "code",
   "execution_count": null,
   "metadata": {},
   "outputs": [],
   "source": [
    "data = inp1\n",
    "data.select_dtypes(include=['object'])\n",
    "data['date_of_last_rech_6'] = pd.to_datetime(data['date_of_last_rech_6'])\n",
    "data['date_of_last_rech_7'] = pd.to_datetime(data['date_of_last_rech_7'])\n",
    "data['date_of_last_rech_8'] = pd.to_datetime(data['date_of_last_rech_8'])\n",
    "data['date_of_last_rech_data_6'] = pd.to_datetime(data['date_of_last_rech_data_6'])\n",
    "data['date_of_last_rech_data_7'] = pd.to_datetime(data['date_of_last_rech_data_7'])\n",
    "data['date_of_last_rech_data_8'] = pd.to_datetime(data['date_of_last_rech_data_8'])\n",
    "\n",
    "inp2 = data # the changes above are by reference, but just to be sure that in case we make a copy, inp1 is still updated\n"
   ]
  },
  {
   "cell_type": "markdown",
   "metadata": {},
   "source": [
    "## 3.3 Missing value treatment"
   ]
  },
  {
   "cell_type": "code",
   "execution_count": null,
   "metadata": {},
   "outputs": [],
   "source": [
    "draw_missing_value_percentage(inp2)"
   ]
  },
  {
   "cell_type": "code",
   "execution_count": null,
   "metadata": {},
   "outputs": [],
   "source": [
    "# missing value imputation\n",
    "data = inp2\n",
    "\n",
    "# treat all mou columns to set na values to median\n",
    "temp = get_missing_value_percentage(data)\n",
    "mou_columns_with_na = temp.index[temp.index.str.contains('mou')]\n",
    "[set_na_to_median(data, column) for column in mou_columns_with_na]\n",
    "\n",
    "# treat all og_others, ic_others to set na values to median\n",
    "[set_na_to_median(data, column) for column in ['og_others_6', 'og_others_7', 'og_others_8','ic_others_6', 'ic_others_7', 'ic_others_8']]\n",
    "\n",
    "# treat all date_of_last_rech to set na values to median\n",
    "[set_na_to_median(data, column) for column in ['date_of_last_rech_6', 'date_of_last_rech_7', 'date_of_last_rech_8']]\n",
    "\n",
    "# set date_of_last_rech_data same as date_of_last_rech\n",
    "condition = data['date_of_last_rech_data_6'].isna()\n",
    "data.loc[condition, 'date_of_last_rech_data_6'] = data.loc[condition, 'date_of_last_rech_6']\n",
    "\n",
    "condition = data['date_of_last_rech_data_7'].isna()\n",
    "data.loc[condition, 'date_of_last_rech_data_7'] = data.loc[condition, 'date_of_last_rech_7']\n",
    "\n",
    "condition = data['date_of_last_rech_data_8'].isna()\n",
    "data.loc[condition, 'date_of_last_rech_data_8'] = data.loc[condition, 'date_of_last_rech_8']\n",
    "\n",
    "# treat all arpu_2g/3g to set na values to median\n",
    "[set_na_to_median(data, column) for column in ['arpu_2g_6', 'arpu_2g_7', 'arpu_2g_8', 'arpu_3g_6', 'arpu_3g_7', 'arpu_3g_8']]\n",
    "\n",
    "# treat all counts of recharges to set na values to 0\n",
    "[set_na_to_value(data, column, 0) for column in ['count_rech_2g_6', 'count_rech_2g_7', 'count_rech_2g_8', 'count_rech_3g_6', 'count_rech_3g_7', 'count_rech_3g_8']]\n",
    "\n",
    "# total_rech_data is a sum of count_rech_2g and count_rech_3g, replacing the value will correct the data and impute missing values\n",
    "data['total_rech_data_6'] = data['count_rech_2g_6'] + data['count_rech_3g_6']\n",
    "data['total_rech_data_7'] = data['count_rech_2g_7'] + data['count_rech_3g_7']\n",
    "data['total_rech_data_8'] = data['count_rech_2g_8'] + data['count_rech_3g_8']\n",
    "\n",
    "# if total_rech_data is 0 (no recharge was done), max_rech_data and av_rech_amt_data is also 0\n",
    "condition = data['total_rech_data_6'] == 0\n",
    "data.loc[condition, 'max_rech_data_6'] = 0\n",
    "data.loc[condition, 'av_rech_amt_data_6'] = 0\n",
    "\n",
    "condition = data['total_rech_data_7'] == 0\n",
    "data.loc[condition, 'max_rech_data_7'] = 0\n",
    "data.loc[condition, 'av_rech_amt_data_7'] = 0\n",
    "\n",
    "condition = data['total_rech_data_8'] == 0\n",
    "data.loc[condition, 'max_rech_data_8'] = 0\n",
    "data.loc[condition, 'av_rech_amt_data_8'] = 0\n",
    "\n",
    "# assuming fb_user, night_pck_user to be 0 if information isn't available and mode is NaN\n",
    "[set_na_to_value(data, column, 0) for column in ['fb_user_6', 'fb_user_7', 'fb_user_8','night_pck_user_6', 'night_pck_user_7', 'night_pck_user_8']]\n",
    "\n",
    "draw_missing_value_percentage(data)\n",
    "inp3 = data"
   ]
  },
  {
   "cell_type": "markdown",
   "metadata": {},
   "source": [
    "### 3.3.1 Observation\n",
    "- we have done some logical missing value imputations, we should validate the data with some sanity checks"
   ]
  },
  {
   "cell_type": "markdown",
   "metadata": {},
   "source": [
    "## 3.4 Removal of empty rows"
   ]
  },
  {
   "cell_type": "code",
   "execution_count": null,
   "metadata": {},
   "outputs": [],
   "source": [
    "data = inp3\n",
    "threshold = 1\n",
    "temp = data.isnull().mean(axis=1)*100 > threshold\n",
    "print(f'% rows missing greater than {threshold}% of data = {round(data[temp].shape[0]*100/data.shape[0])}%')\n",
    "print(data[temp].shape)\n",
    "draw_missing_value_percentage(data[~temp])"
   ]
  },
  {
   "cell_type": "markdown",
   "metadata": {},
   "source": [
    "### 3.4.1 Observation\n",
    "- we don't need to remove rows as there is no missing value now."
   ]
  },
  {
   "cell_type": "markdown",
   "metadata": {},
   "source": [
    "## 3.5 Outlier treatment"
   ]
  },
  {
   "cell_type": "code",
   "execution_count": null,
   "metadata": {},
   "outputs": [],
   "source": [
    "plt.figure(figsize = (30, 5))\n",
    "plt.xticks(rotation = 90)\n",
    "columns_to_remove = []\n",
    "columns_to_remove.extend(inp3.columns[inp3.columns.str.contains('fb_user')])\n",
    "columns_to_remove.extend(inp3.columns[inp3.columns.str.contains('night_pck_user')])\n",
    "columns_to_remove.extend(inp3.columns[inp3.columns.str.contains('monthly')])\n",
    "columns_to_remove.extend(inp3.columns[inp3.columns.str.contains('sachet')])\n",
    "columns_to_remove.extend(inp3.columns[inp3.columns.str.contains('date')])\n",
    "columns_to_remove.extend(inp3.columns[inp3.columns.str.contains('count')])\n",
    "columns_to_remove.extend(inp3.columns[inp3.columns.str.contains('rech_data')])\n",
    "columns_to_remove.extend(inp3.columns[inp3.columns.str.contains('rech_num')])\n",
    "\n",
    "# columns_to_remove.extend(inp3.columns[inp3.columns.str.contains('arpu')])\n",
    "# columns_to_remove.extend(inp3.columns[inp3.columns.str.contains('mou')])\n",
    "# columns_to_remove.extend(inp3.columns[inp3.columns.str.contains('vol')])\n",
    "# columns_to_remove.extend(inp3.columns[inp3.columns.str.contains('vbc')])\n",
    "# columns_to_remove.extend(inp3.columns[inp3.columns.str.contains('aon')])\n",
    "# columns_to_remove.extend(inp3.columns[inp3.columns.str.contains('amt')])\n",
    "# columns_to_remove.extend(inp3.columns[inp3.columns.str.contains('others')])\n",
    "sns.barplot(inp3.drop(columns = columns_to_remove).nunique().sort_values())\n",
    "plt.show()"
   ]
  },
  {
   "cell_type": "code",
   "execution_count": null,
   "metadata": {},
   "outputs": [],
   "source": [
    "from scipy.stats import zscore\n",
    "\n",
    "def automated_outlier_treatment(data, exclude=[], method='iqr', threshold=3, type='cap'):\n",
    "    numerical_cols = data.select_dtypes(include=['number']).columns\n",
    "    for col in numerical_cols:\n",
    "        if col in exclude:\n",
    "            continue\n",
    "        if method == 'iqr':\n",
    "            Q1 = data[col].quantile(0.01)\n",
    "            Q3 = data[col].quantile(0.99)\n",
    "            IQR = Q3 - Q1\n",
    "            lower_bound = Q1 - 1.5 * IQR\n",
    "            upper_bound = Q3 + 1.5 * IQR\n",
    "            if(data[col].min() < 0):\n",
    "                lower_bound = lower_bound\n",
    "            else:\n",
    "                lower_bound = 0\n",
    "            \n",
    "            if type == 'cap':\n",
    "                data[col] = data[col].clip(lower=lower_bound, upper=upper_bound)\n",
    "            elif type == 'rem':\n",
    "                data = data[(data[col] >= lower_bound) & (data[col] <= upper_bound)]\n",
    "            print(f'col = {col}, lower = {lower_bound}, upper = {upper_bound}, shape = {data.shape}')\n",
    "        elif method == 'zscore':\n",
    "            z_scores = zscore(data[col])\n",
    "            if type == 'cap':\n",
    "                data[col] = data[col].where(np.abs(z_scores) <= threshold, data[col].median())\n",
    "            elif type == 'rem':\n",
    "                data = data[(np.abs(z_scores) <= threshold)]\n",
    "    return data\n",
    "\n",
    "inp4 = automated_outlier_treatment(inp3.copy(), columns_to_remove, 'iqr', threshold=10, type='cap')\n",
    "get_data_loss(inp3, inp4) # shouldn't be a data loss since we are capping\n",
    "# box_scatter(inp4, numerical_cols, 'churn_probability', figsize=(1000, 5))\n",
    "included_columns = set(inp3.columns.to_list()) - set(columns_to_remove)\n",
    "# box_scatter_compare(inp3, inp4, included_columns, 'churn_probability', figsize = (600, 10))\n"
   ]
  },
  {
   "cell_type": "markdown",
   "metadata": {},
   "source": [
    "# 4. Exploratory Data Analysis"
   ]
  },
  {
   "cell_type": "markdown",
   "metadata": {},
   "source": [
    "## 4.1 Segmented univariate analysis over 'churn_probability'"
   ]
  },
  {
   "cell_type": "markdown",
   "metadata": {},
   "source": [
    "### 4.1.1 arpu"
   ]
  },
  {
   "cell_type": "code",
   "execution_count": null,
   "metadata": {},
   "outputs": [],
   "source": [
    "data = inp4\n",
    "\n",
    "selected_columns = data.columns[data.columns.str.contains('arpu')]\n",
    "box_scatter_describe(data=data, columns=selected_columns, hue='churn_probability', figsize= (50, 10))"
   ]
  },
  {
   "cell_type": "markdown",
   "metadata": {},
   "source": [
    "### 4.1.1 observation\n",
    "- the arpu of people who would churn is shrinking over time closer to 0\n",
    "- downward trend of arpu is an indicator of churn"
   ]
  },
  {
   "cell_type": "markdown",
   "metadata": {},
   "source": [
    "### 4.1.2 onnet, offnet"
   ]
  },
  {
   "cell_type": "code",
   "execution_count": null,
   "metadata": {},
   "outputs": [],
   "source": [
    "data = inp4\n",
    "\n",
    "selected_columns = []\n",
    "selected_columns.extend(data.columns[data.columns.str.contains('onnet')])\n",
    "selected_columns.extend(data.columns[data.columns.str.contains('offnet')])\n",
    "print(selected_columns)\n",
    "box_scatter_describe(data=data, columns=selected_columns, hue='churn_probability', figsize= (50, 10))"
   ]
  },
  {
   "cell_type": "markdown",
   "metadata": {},
   "source": [
    "### 4.1.2 observation\n",
    "- mou is higher for offnet in general\n",
    "- customers who churned show a downward trend in mou as compared to customers who stayed, for both onnet and offset"
   ]
  },
  {
   "cell_type": "markdown",
   "metadata": {},
   "source": [
    "### 4.1.3 loc_ic_mou, loc_og_mou"
   ]
  },
  {
   "cell_type": "code",
   "execution_count": null,
   "metadata": {},
   "outputs": [],
   "source": [
    "data = inp4\n",
    "\n",
    "selected_columns = []\n",
    "selected_columns.extend(data.columns[data.columns.str.contains('loc_ic_mou')])\n",
    "selected_columns.extend(data.columns[data.columns.str.contains('loc_og_mou')])\n",
    "print(selected_columns)\n",
    "box_scatter_describe(data=data, columns=selected_columns, hue='churn_probability', figsize= (50, 10))"
   ]
  },
  {
   "cell_type": "markdown",
   "metadata": {},
   "source": [
    "### 4.1.3 observation\n",
    "- incoming mou is higher than outgoing mou\n",
    "- customers who churned show a downward trend in their average mou for both incoming and outgoing\n",
    "- in case average mou of incoming and outgoing is going down, can be seen as a possibility of churn"
   ]
  },
  {
   "cell_type": "markdown",
   "metadata": {},
   "source": [
    "### 4.1.4 std_ic_mou, std_og_mou"
   ]
  },
  {
   "cell_type": "code",
   "execution_count": null,
   "metadata": {},
   "outputs": [],
   "source": [
    "data = inp4\n",
    "\n",
    "selected_columns = []\n",
    "selected_columns.extend(data.columns[data.columns.str.contains('std_ic_mou')])\n",
    "selected_columns.extend(data.columns[data.columns.str.contains('std_og_mou')])\n",
    "print(selected_columns)\n",
    "box_scatter_describe(data=data, columns=selected_columns, hue='churn_probability', figsize= (50, 10))"
   ]
  },
  {
   "cell_type": "markdown",
   "metadata": {},
   "source": [
    "### 4.1.4 observation\n",
    "- there are more outgoing calls than incoming in std\n",
    "- both incoming and outgoing mou has a downword trend for customers who have churned"
   ]
  },
  {
   "cell_type": "markdown",
   "metadata": {},
   "source": [
    "### 4.1.5 isd_ic_mou, isd_og_mou"
   ]
  },
  {
   "cell_type": "code",
   "execution_count": null,
   "metadata": {},
   "outputs": [],
   "source": [
    "data = inp4\n",
    "\n",
    "selected_columns = []\n",
    "selected_columns.extend(data.columns[data.columns.str.contains('isd_ic_mou')])\n",
    "selected_columns.extend(data.columns[data.columns.str.contains('isd_og_mou')])\n",
    "print(selected_columns)\n",
    "box_scatter_describe(data=data, columns=selected_columns, hue='churn_probability', figsize= (50, 10))"
   ]
  },
  {
   "cell_type": "markdown",
   "metadata": {},
   "source": [
    "### 4.1.5 observation\n",
    "- isd has more incoming that outgoing\n",
    "- average value of mou is trending downwards for both incoming and outgoing"
   ]
  },
  {
   "cell_type": "markdown",
   "metadata": {},
   "source": [
    "### 4.1.6 aon"
   ]
  },
  {
   "cell_type": "code",
   "execution_count": null,
   "metadata": {},
   "outputs": [],
   "source": [
    "data = inp4\n",
    "\n",
    "selected_columns = []\n",
    "selected_columns.extend(data.columns[data.columns.str.contains('aon')])\n",
    "selected_columns.append('aon')\n",
    "print(selected_columns)\n",
    "box_scatter_describe(data=data, columns=selected_columns, hue='churn_probability', figsize= (50, 10))"
   ]
  },
  {
   "cell_type": "markdown",
   "metadata": {},
   "source": [
    "### 4.1.6 observation\n",
    "- customers having higher age on network usually stay\n",
    "- looking at the median of customers who did not churn, it can be said that customers below 1000 days will have a higher chances of churn"
   ]
  },
  {
   "cell_type": "markdown",
   "metadata": {},
   "source": [
    "### 4.1.7 rech_amt, rch_amt"
   ]
  },
  {
   "cell_type": "code",
   "execution_count": null,
   "metadata": {},
   "outputs": [],
   "source": [
    "data = inp4\n",
    "\n",
    "selected_columns = []\n",
    "selected_columns.extend(data.columns[data.columns.str.contains('rech_amt')])\n",
    "selected_columns.extend(data.columns[data.columns.str.contains('rch_amt')])\n",
    "print(selected_columns)\n",
    "box_scatter_describe(data=data, columns=selected_columns, hue='churn_probability', figsize= (50, 10))"
   ]
  },
  {
   "cell_type": "markdown",
   "metadata": {},
   "source": [
    "### 4.1.7 observation\n",
    "- recharges are going down month over month for customers who churned"
   ]
  },
  {
   "cell_type": "markdown",
   "metadata": {},
   "source": [
    "### 4.1.8 recharge counts"
   ]
  },
  {
   "cell_type": "code",
   "execution_count": null,
   "metadata": {},
   "outputs": [],
   "source": [
    "data = inp4\n",
    "\n",
    "selected_columns = []\n",
    "selected_columns.extend(data.columns[data.columns.str.contains('rech_num')])\n",
    "selected_columns.extend(data.columns[data.columns.str.contains('total_rech_data')])\n",
    "selected_columns.extend(data.columns[data.columns.str.contains('count_rech_2g')])\n",
    "selected_columns.extend(data.columns[data.columns.str.contains('count_rech_3g')])\n",
    "print(selected_columns)\n",
    "box_scatter_describe(data=data, columns=selected_columns, hue='churn_probability', figsize= (50, 10))"
   ]
  },
  {
   "cell_type": "markdown",
   "metadata": {},
   "source": [
    "### 4.1.8 observation\n",
    "- recharge counts are also going down month over month for the customers who churned"
   ]
  },
  {
   "cell_type": "markdown",
   "metadata": {},
   "source": [
    "### 4.1.9 data usage"
   ]
  },
  {
   "cell_type": "code",
   "execution_count": null,
   "metadata": {},
   "outputs": [],
   "source": [
    "data = inp4\n",
    "\n",
    "selected_columns = []\n",
    "selected_columns.extend(data.columns[data.columns.str.contains('vol')])\n",
    "print(selected_columns)\n",
    "box_scatter_describe(data=data, columns=selected_columns, hue='churn_probability', figsize= (50, 10))"
   ]
  },
  {
   "cell_type": "markdown",
   "metadata": {},
   "source": [
    "### 4.1.9 observation\n",
    "- 3g usage is more than 2g\n",
    "- usage of both 3g and 2g is trending downwards month over month"
   ]
  },
  {
   "cell_type": "markdown",
   "metadata": {},
   "source": [
    "### 4.1.10 fb user, night pack user, monthly, sachet"
   ]
  },
  {
   "cell_type": "code",
   "execution_count": null,
   "metadata": {},
   "outputs": [],
   "source": [
    "data = inp4\n",
    "\n",
    "selected_columns = []\n",
    "selected_columns.extend(data.columns[data.columns.str.contains('fb_user')])\n",
    "selected_columns.extend(data.columns[data.columns.str.contains('night_pck_user')])\n",
    "selected_columns.extend(data.columns[data.columns.str.contains('monthly')])\n",
    "selected_columns.extend(data.columns[data.columns.str.contains('sachet')])\n",
    "print(selected_columns)\n",
    "box_scatter_describe(data=data, columns=selected_columns, hue='churn_probability', figsize= (50, 10))"
   ]
  },
  {
   "cell_type": "markdown",
   "metadata": {},
   "source": [
    "### 4.1.10 observation\n",
    "- count of fb user, night pack user, monthly user, sachet user is going down over months for churned customers"
   ]
  },
  {
   "cell_type": "markdown",
   "metadata": {},
   "source": [
    "### 4.1.11 local within network (t2t, t2f, t2c)"
   ]
  },
  {
   "cell_type": "code",
   "execution_count": null,
   "metadata": {},
   "outputs": [],
   "source": [
    "data = inp4.copy()\n",
    "\n",
    "data['loc_ic_withinnetwork_mou_6'] = data['loc_ic_t2t_mou_6'] + data['loc_ic_t2f_mou_6']\n",
    "data['loc_ic_withinnetwork_mou_7'] = data['loc_ic_t2t_mou_7'] + data['loc_ic_t2f_mou_7']\n",
    "data['loc_ic_withinnetwork_mou_8'] = data['loc_ic_t2t_mou_8'] + data['loc_ic_t2f_mou_8']\n",
    "\n",
    "data['loc_og_withinnetwork_mou_6'] = data['loc_og_t2t_mou_6'] + data['loc_og_t2f_mou_6'] + data['loc_og_t2c_mou_6']\n",
    "data['loc_og_withinnetwork_mou_7'] = data['loc_og_t2t_mou_7'] + data['loc_og_t2f_mou_7'] + data['loc_og_t2c_mou_7']\n",
    "data['loc_og_withinnetwork_mou_8'] = data['loc_og_t2t_mou_8'] + data['loc_og_t2f_mou_8'] + data['loc_og_t2c_mou_8']\n",
    "\n",
    "selected_columns = []\n",
    "selected_columns.extend(data.columns[data.columns.str.contains('withinnetwork')])\n",
    "print(selected_columns)\n",
    "box_scatter_describe(data=data, columns=selected_columns, hue='churn_probability', figsize= (50, 10))"
   ]
  },
  {
   "cell_type": "markdown",
   "metadata": {},
   "source": [
    "### 4.1.11 observation\n",
    "- both incoming and outgoing within local network are trending downwards for churned customers"
   ]
  },
  {
   "cell_type": "markdown",
   "metadata": {},
   "source": [
    "#### 4.1.11.1 local outside network t2m t2o"
   ]
  },
  {
   "cell_type": "code",
   "execution_count": null,
   "metadata": {},
   "outputs": [],
   "source": [
    "data = inp4\n",
    "\n",
    "selected_columns = []\n",
    "selected_columns.extend(data.columns[data.columns.str.contains('loc_ic_t2m')])\n",
    "selected_columns.extend(data.columns[data.columns.str.contains('loc_og_t2m')])\n",
    "print(selected_columns)\n",
    "box_scatter_describe(data=data, columns=selected_columns, hue='churn_probability', figsize= (50, 10))"
   ]
  },
  {
   "cell_type": "markdown",
   "metadata": {},
   "source": [
    "#### 4.1.11.1 observation\n",
    "- in general the incoming and outgoing from/to other operators is high for both churned and non churned customers"
   ]
  },
  {
   "cell_type": "markdown",
   "metadata": {},
   "source": [
    "### 4.1.12 std within network (t2t, t2f, t2c)"
   ]
  },
  {
   "cell_type": "code",
   "execution_count": null,
   "metadata": {},
   "outputs": [],
   "source": [
    "data = inp4.copy()\n",
    "\n",
    "data['std_ic_withinnetwork_mou_6'] = data['std_ic_t2t_mou_6'] + data['std_ic_t2f_mou_6']\n",
    "data['std_ic_withinnetwork_mou_7'] = data['std_ic_t2t_mou_7'] + data['std_ic_t2f_mou_7']\n",
    "data['std_ic_withinnetwork_mou_8'] = data['std_ic_t2t_mou_8'] + data['std_ic_t2f_mou_8']\n",
    "\n",
    "data['std_og_withinnetwork_mou_6'] = data['std_og_t2t_mou_6'] + data['std_og_t2f_mou_6']\n",
    "data['std_og_withinnetwork_mou_7'] = data['std_og_t2t_mou_7'] + data['std_og_t2f_mou_7']\n",
    "data['std_og_withinnetwork_mou_8'] = data['std_og_t2t_mou_8'] + data['std_og_t2f_mou_8']\n",
    "\n",
    "selected_columns = []\n",
    "selected_columns.extend(data.columns[data.columns.str.contains('withinnetwork')])\n",
    "print(selected_columns)\n",
    "box_scatter_describe(data=data, columns=selected_columns, hue='churn_probability', figsize= (50, 10))"
   ]
  },
  {
   "cell_type": "markdown",
   "metadata": {},
   "source": [
    "### 4.1.12 observation\n",
    "- both incoming and outgoing within std network are trending downwards for churned customers\n",
    "- for std outgoing calls are more than incoming"
   ]
  },
  {
   "cell_type": "markdown",
   "metadata": {},
   "source": [
    "### 4.1.13 spl"
   ]
  },
  {
   "cell_type": "code",
   "execution_count": null,
   "metadata": {},
   "outputs": [],
   "source": [
    "data = inp4\n",
    "\n",
    "selected_columns = []\n",
    "selected_columns.extend(data.columns[data.columns.str.contains('spl')])\n",
    "print(selected_columns)\n",
    "box_scatter_describe(data=data, columns=selected_columns, hue='churn_probability', figsize= (50, 10))"
   ]
  },
  {
   "cell_type": "markdown",
   "metadata": {},
   "source": [
    "### 4.1.13 observation\n",
    "- spl outgoing is decreasing month over month"
   ]
  },
  {
   "cell_type": "markdown",
   "metadata": {},
   "source": [
    "# 5. Feature engineering and Variable Transformation"
   ]
  },
  {
   "cell_type": "markdown",
   "metadata": {},
   "source": [
    "## 5.1 Create derived columns"
   ]
  },
  {
   "cell_type": "code",
   "execution_count": null,
   "metadata": {},
   "outputs": [],
   "source": [
    "data = inp4\n",
    "\n",
    "data['loc_ic_withinnetwork_mou_6'] = data.apply(lambda x: x['loc_ic_t2t_mou_6'] + x['loc_ic_t2f_mou_6'], axis=1)\n",
    "data['loc_ic_withinnetwork_mou_7'] = data.apply(lambda x: x['loc_ic_t2t_mou_7'] + x['loc_ic_t2f_mou_7'], axis=1)\n",
    "data['loc_ic_withinnetwork_mou_8'] = data.apply(lambda x: x['loc_ic_t2t_mou_8'] + x['loc_ic_t2f_mou_8'], axis=1)\n",
    "\n",
    "data['loc_og_withinnetwork_mou_6'] = data.apply(lambda x: x['loc_og_t2t_mou_6'] + x['loc_og_t2f_mou_6'] + x['loc_og_t2c_mou_6'], axis=1)\n",
    "data['loc_og_withinnetwork_mou_7'] = data.apply(lambda x: x['loc_og_t2t_mou_7'] + x['loc_og_t2f_mou_7'] + x['loc_og_t2c_mou_7'], axis=1)\n",
    "data['loc_og_withinnetwork_mou_8'] = data.apply(lambda x: x['loc_og_t2t_mou_8'] + x['loc_og_t2f_mou_8'] + x['loc_og_t2c_mou_8'], axis=1)\n",
    "\n",
    "data['std_ic_withinnetwork_mou_6'] = data.apply(lambda x: x['std_ic_t2t_mou_6'] + x['std_ic_t2f_mou_6'], axis=1)\n",
    "data['std_ic_withinnetwork_mou_7'] = data.apply(lambda x: x['std_ic_t2t_mou_7'] + x['std_ic_t2f_mou_7'], axis=1)\n",
    "data['std_ic_withinnetwork_mou_8'] = data.apply(lambda x: x['std_ic_t2t_mou_8'] + x['std_ic_t2f_mou_8'], axis=1)\n",
    "\n",
    "data['std_og_withinnetwork_mou_6'] = data.apply(lambda x: x['std_og_t2t_mou_6'] + x['std_og_t2f_mou_6'], axis=1)\n",
    "data['std_og_withinnetwork_mou_7'] = data.apply(lambda x: x['std_og_t2t_mou_7'] + x['std_og_t2f_mou_7'], axis=1)\n",
    "data['std_og_withinnetwork_mou_8'] = data.apply(lambda x: x['std_og_t2t_mou_8'] + x['std_og_t2f_mou_8'], axis=1)\n",
    "\n",
    "datetime_columns = data.columns[data.columns.str.contains('')]\n",
    "data['date_of_last_rech_6'] = data['date_of_last_rech_6'].dt.day\n",
    "data['date_of_last_rech_7'] = data['date_of_last_rech_7'].dt.day\n",
    "data['date_of_last_rech_8'] = data['date_of_last_rech_8'].dt.day\n",
    "data['date_of_last_rech_data_6'] = data['date_of_last_rech_data_6'].dt.day\n",
    "data['date_of_last_rech_data_7'] = data['date_of_last_rech_data_7'].dt.day\n",
    "data['date_of_last_rech_data_8'] = data['date_of_last_rech_data_8'].dt.day\n",
    "\n",
    "inp5 = data"
   ]
  },
  {
   "cell_type": "markdown",
   "metadata": {},
   "source": [
    "## 5.2 train test split"
   ]
  },
  {
   "cell_type": "code",
   "execution_count": 224,
   "metadata": {},
   "outputs": [
    {
     "name": "stdout",
     "output_type": "stream",
     "text": [
      "df_train shape: (55999, 171)\n",
      "df_test shape: (14000, 171)\n",
      "churn_probability\n",
      "0    0.897498\n",
      "1    0.102502\n",
      "Name: proportion, dtype: float64\n",
      "churn_probability\n",
      "0    0.900571\n",
      "1    0.099429\n",
      "Name: proportion, dtype: float64\n"
     ]
    }
   ],
   "source": [
    "from sklearn.model_selection import train_test_split\n",
    "\n",
    "df_train, df_test = train_test_split(inp5, train_size=0.8, random_state=100)\n",
    "# X_train = df_train.drop(columns=['id', 'churn_probability'])\n",
    "X_train = df_train.drop(columns=['churn_probability'])\n",
    "y_train = df_train['churn_probability']\n",
    "# X_test = df_test.drop(columns=['id', 'churn_probability'])\n",
    "X_test = df_test.drop(columns=['churn_probability'])\n",
    "y_test = df_test['churn_probability']\n",
    "\n",
    "print(f'df_train shape: {df_train.shape}')\n",
    "print(f'df_test shape: {df_test.shape}')\n",
    "print(df_train['churn_probability'].value_counts(normalize=True))\n",
    "print(df_test['churn_probability'].value_counts(normalize=True))"
   ]
  },
  {
   "cell_type": "markdown",
   "metadata": {},
   "source": [
    "## 5.2 observation\n",
    "- we didn't have to stratify over churn_probability, the distribution of churn_probability in both train and test data is equally distributed"
   ]
  },
  {
   "cell_type": "markdown",
   "metadata": {},
   "source": [
    "## 5.3 Scaling numerical columns"
   ]
  },
  {
   "cell_type": "code",
   "execution_count": 230,
   "metadata": {},
   "outputs": [
    {
     "data": {
      "text/html": [
       "<div>\n",
       "<style scoped>\n",
       "    .dataframe tbody tr th:only-of-type {\n",
       "        vertical-align: middle;\n",
       "    }\n",
       "\n",
       "    .dataframe tbody tr th {\n",
       "        vertical-align: top;\n",
       "    }\n",
       "\n",
       "    .dataframe thead th {\n",
       "        text-align: right;\n",
       "    }\n",
       "</style>\n",
       "<table border=\"1\" class=\"dataframe\">\n",
       "  <thead>\n",
       "    <tr style=\"text-align: right;\">\n",
       "      <th></th>\n",
       "      <th>arpu_6</th>\n",
       "      <th>arpu_7</th>\n",
       "      <th>arpu_8</th>\n",
       "      <th>arpu_3g_6</th>\n",
       "      <th>arpu_3g_7</th>\n",
       "      <th>arpu_3g_8</th>\n",
       "      <th>arpu_2g_6</th>\n",
       "      <th>arpu_2g_7</th>\n",
       "      <th>arpu_2g_8</th>\n",
       "      <th>onnet_mou_6</th>\n",
       "      <th>...</th>\n",
       "      <th>monthly_2g_8</th>\n",
       "      <th>monthly_3g_6</th>\n",
       "      <th>monthly_3g_7</th>\n",
       "      <th>monthly_3g_8</th>\n",
       "      <th>sachet_2g_6</th>\n",
       "      <th>sachet_2g_7</th>\n",
       "      <th>sachet_2g_8</th>\n",
       "      <th>sachet_3g_6</th>\n",
       "      <th>sachet_3g_7</th>\n",
       "      <th>sachet_3g_8</th>\n",
       "    </tr>\n",
       "  </thead>\n",
       "  <tbody>\n",
       "    <tr>\n",
       "      <th>0</th>\n",
       "      <td>-0.876877</td>\n",
       "      <td>0.600367</td>\n",
       "      <td>-0.906720</td>\n",
       "      <td>-0.231898</td>\n",
       "      <td>-0.232079</td>\n",
       "      <td>-0.239058</td>\n",
       "      <td>-0.221138</td>\n",
       "      <td>-0.225221</td>\n",
       "      <td>-0.231283</td>\n",
       "      <td>-0.330603</td>\n",
       "      <td>...</td>\n",
       "      <td>-0.269532</td>\n",
       "      <td>-0.209883</td>\n",
       "      <td>-0.201927</td>\n",
       "      <td>-0.212607</td>\n",
       "      <td>-0.262939</td>\n",
       "      <td>-0.268468</td>\n",
       "      <td>-0.27573</td>\n",
       "      <td>-0.128093</td>\n",
       "      <td>-0.127708</td>\n",
       "      <td>-0.124883</td>\n",
       "    </tr>\n",
       "    <tr>\n",
       "      <th>1</th>\n",
       "      <td>-0.414118</td>\n",
       "      <td>-0.329881</td>\n",
       "      <td>-0.654696</td>\n",
       "      <td>-0.231898</td>\n",
       "      <td>-0.232079</td>\n",
       "      <td>-0.239058</td>\n",
       "      <td>-0.221138</td>\n",
       "      <td>-0.225221</td>\n",
       "      <td>-0.231283</td>\n",
       "      <td>0.525005</td>\n",
       "      <td>...</td>\n",
       "      <td>-0.269532</td>\n",
       "      <td>-0.209883</td>\n",
       "      <td>-0.201927</td>\n",
       "      <td>-0.212607</td>\n",
       "      <td>-0.262939</td>\n",
       "      <td>-0.268468</td>\n",
       "      <td>-0.27573</td>\n",
       "      <td>-0.128093</td>\n",
       "      <td>-0.127708</td>\n",
       "      <td>-0.124883</td>\n",
       "    </tr>\n",
       "    <tr>\n",
       "      <th>2</th>\n",
       "      <td>0.093323</td>\n",
       "      <td>0.637112</td>\n",
       "      <td>0.443886</td>\n",
       "      <td>-0.050214</td>\n",
       "      <td>0.281880</td>\n",
       "      <td>0.650275</td>\n",
       "      <td>-0.357335</td>\n",
       "      <td>-0.329894</td>\n",
       "      <td>-0.337739</td>\n",
       "      <td>-0.339339</td>\n",
       "      <td>...</td>\n",
       "      <td>6.435725</td>\n",
       "      <td>-0.209883</td>\n",
       "      <td>-0.201927</td>\n",
       "      <td>-0.212607</td>\n",
       "      <td>1.068374</td>\n",
       "      <td>1.540455</td>\n",
       "      <td>-0.27573</td>\n",
       "      <td>-0.128093</td>\n",
       "      <td>-0.127708</td>\n",
       "      <td>-0.124883</td>\n",
       "    </tr>\n",
       "    <tr>\n",
       "      <th>3</th>\n",
       "      <td>-0.426670</td>\n",
       "      <td>-0.721615</td>\n",
       "      <td>-0.036306</td>\n",
       "      <td>-0.231898</td>\n",
       "      <td>-0.232079</td>\n",
       "      <td>-0.239058</td>\n",
       "      <td>-0.221138</td>\n",
       "      <td>-0.225221</td>\n",
       "      <td>-0.231283</td>\n",
       "      <td>-0.261803</td>\n",
       "      <td>...</td>\n",
       "      <td>-0.269532</td>\n",
       "      <td>-0.209883</td>\n",
       "      <td>-0.201927</td>\n",
       "      <td>-0.212607</td>\n",
       "      <td>-0.262939</td>\n",
       "      <td>-0.268468</td>\n",
       "      <td>-0.27573</td>\n",
       "      <td>-0.128093</td>\n",
       "      <td>-0.127708</td>\n",
       "      <td>-0.124883</td>\n",
       "    </tr>\n",
       "    <tr>\n",
       "      <th>4</th>\n",
       "      <td>-0.178598</td>\n",
       "      <td>-0.181522</td>\n",
       "      <td>-0.315815</td>\n",
       "      <td>-0.231898</td>\n",
       "      <td>-0.232079</td>\n",
       "      <td>-0.239058</td>\n",
       "      <td>-0.221138</td>\n",
       "      <td>-0.225221</td>\n",
       "      <td>-0.231283</td>\n",
       "      <td>-0.410393</td>\n",
       "      <td>...</td>\n",
       "      <td>-0.269532</td>\n",
       "      <td>-0.209883</td>\n",
       "      <td>-0.201927</td>\n",
       "      <td>-0.212607</td>\n",
       "      <td>-0.262939</td>\n",
       "      <td>-0.268468</td>\n",
       "      <td>-0.27573</td>\n",
       "      <td>-0.128093</td>\n",
       "      <td>-0.127708</td>\n",
       "      <td>-0.124883</td>\n",
       "    </tr>\n",
       "  </tbody>\n",
       "</table>\n",
       "<p>5 rows × 151 columns</p>\n",
       "</div>"
      ],
      "text/plain": [
       "     arpu_6    arpu_7    arpu_8  arpu_3g_6  arpu_3g_7  arpu_3g_8  arpu_2g_6  \\\n",
       "0 -0.876877  0.600367 -0.906720  -0.231898  -0.232079  -0.239058  -0.221138   \n",
       "1 -0.414118 -0.329881 -0.654696  -0.231898  -0.232079  -0.239058  -0.221138   \n",
       "2  0.093323  0.637112  0.443886  -0.050214   0.281880   0.650275  -0.357335   \n",
       "3 -0.426670 -0.721615 -0.036306  -0.231898  -0.232079  -0.239058  -0.221138   \n",
       "4 -0.178598 -0.181522 -0.315815  -0.231898  -0.232079  -0.239058  -0.221138   \n",
       "\n",
       "   arpu_2g_7  arpu_2g_8  onnet_mou_6  ...  monthly_2g_8  monthly_3g_6  \\\n",
       "0  -0.225221  -0.231283    -0.330603  ...     -0.269532     -0.209883   \n",
       "1  -0.225221  -0.231283     0.525005  ...     -0.269532     -0.209883   \n",
       "2  -0.329894  -0.337739    -0.339339  ...      6.435725     -0.209883   \n",
       "3  -0.225221  -0.231283    -0.261803  ...     -0.269532     -0.209883   \n",
       "4  -0.225221  -0.231283    -0.410393  ...     -0.269532     -0.209883   \n",
       "\n",
       "   monthly_3g_7  monthly_3g_8  sachet_2g_6  sachet_2g_7  sachet_2g_8  \\\n",
       "0     -0.201927     -0.212607    -0.262939    -0.268468     -0.27573   \n",
       "1     -0.201927     -0.212607    -0.262939    -0.268468     -0.27573   \n",
       "2     -0.201927     -0.212607     1.068374     1.540455     -0.27573   \n",
       "3     -0.201927     -0.212607    -0.262939    -0.268468     -0.27573   \n",
       "4     -0.201927     -0.212607    -0.262939    -0.268468     -0.27573   \n",
       "\n",
       "   sachet_3g_6  sachet_3g_7  sachet_3g_8  \n",
       "0    -0.128093    -0.127708    -0.124883  \n",
       "1    -0.128093    -0.127708    -0.124883  \n",
       "2    -0.128093    -0.127708    -0.124883  \n",
       "3    -0.128093    -0.127708    -0.124883  \n",
       "4    -0.128093    -0.127708    -0.124883  \n",
       "\n",
       "[5 rows x 151 columns]"
      ]
     },
     "execution_count": 230,
     "metadata": {},
     "output_type": "execute_result"
    }
   ],
   "source": [
    "df_numerical_columns_to_scale = []\n",
    "df_numerical_columns_to_scale.extend(data.columns[data.columns.str.contains('arpu')])\n",
    "df_numerical_columns_to_scale.extend(data.columns[data.columns.str.contains('onnet')])\n",
    "df_numerical_columns_to_scale.extend(data.columns[data.columns.str.contains('offnet')])\n",
    "df_numerical_columns_to_scale.extend(data.columns[data.columns.str.contains('mou')])\n",
    "df_numerical_columns_to_scale.extend(data.columns[data.columns.str.contains('aon')])\n",
    "df_numerical_columns_to_scale.extend(data.columns[data.columns.str.contains('rech_amt')])\n",
    "df_numerical_columns_to_scale.extend(data.columns[data.columns.str.contains('rch_amt')])\n",
    "df_numerical_columns_to_scale.extend(data.columns[data.columns.str.contains('rech_num')])\n",
    "df_numerical_columns_to_scale.extend(data.columns[data.columns.str.contains('total_rech_data')])\n",
    "df_numerical_columns_to_scale.extend(data.columns[data.columns.str.contains('count_rech_2g')])\n",
    "df_numerical_columns_to_scale.extend(data.columns[data.columns.str.contains('count_rech_3g')])\n",
    "df_numerical_columns_to_scale.extend(data.columns[data.columns.str.contains('vol')])\n",
    "df_numerical_columns_to_scale.extend(data.columns[data.columns.str.contains('monthly')])\n",
    "df_numerical_columns_to_scale.extend(data.columns[data.columns.str.contains('sachet')])\n",
    "\n",
    "from sklearn.preprocessing import StandardScaler\n",
    "scaler = StandardScaler().fit(X_train[df_numerical_columns_to_scale])\n",
    "X_train_scaled = pd.DataFrame(scaler.transform(X_train[df_numerical_columns_to_scale]), columns=df_numerical_columns_to_scale)\n",
    "X_test_scaled = pd.DataFrame(scaler.transform(X_test[df_numerical_columns_to_scale]), columns=df_numerical_columns_to_scale)\n",
    "# X_train[df_numerical_columns_to_scale] = scaler.transform(X_train[df_numerical_columns_to_scale])\n",
    "# X_test[df_numerical_columns_to_scale] = scaler.transform(X_test[df_numerical_columns_to_scale])\n",
    "# X_train = X_train_scaled\n",
    "# X_test = X_test_scaled\n",
    "X_train_scaled.head()"
   ]
  },
  {
   "cell_type": "markdown",
   "metadata": {},
   "source": [
    "# 6. Modelling"
   ]
  },
  {
   "cell_type": "markdown",
   "metadata": {},
   "source": [
    "## 6.1 PCA"
   ]
  },
  {
   "cell_type": "code",
   "execution_count": 231,
   "metadata": {},
   "outputs": [],
   "source": [
    "from sklearn.decomposition import PCA\n",
    "pca = PCA(random_state=42)\n",
    "X_train_pca = pca.fit_transform(X_train_scaled)\n",
    "X_test_pca = pca.transform(X_test_scaled)"
   ]
  },
  {
   "cell_type": "markdown",
   "metadata": {},
   "source": [
    "## 6.2 Scree plot"
   ]
  },
  {
   "cell_type": "code",
   "execution_count": 232,
   "metadata": {},
   "outputs": [
    {
     "data": {
      "image/png": "[encoded data removed]",
      "text/plain": [
       "<Figure size 1200x800 with 1 Axes>"
      ]
     },
     "metadata": {},
     "output_type": "display_data"
    }
   ],
   "source": [
    "var_cumu = np.cumsum(pca.explained_variance_ratio_)\n",
    "fig = plt.figure(figsize=[12,8])\n",
    "plt.vlines(x=15, ymax=1, ymin=0, colors=\"r\", linestyles=\"--\")\n",
    "plt.hlines(y=0.95, xmax=200, xmin=0, colors=\"g\", linestyles=\"--\")\n",
    "plt.plot(var_cumu)\n",
    "plt.ylabel(\"Cumulative variance explained\")\n",
    "plt.show()"
   ]
  },
  {
   "cell_type": "markdown",
   "metadata": {},
   "source": [
    "## 6.3 PCA again with about 0.95 explained variance"
   ]
  },
  {
   "cell_type": "code",
   "execution_count": 233,
   "metadata": {},
   "outputs": [
    {
     "name": "stdout",
     "output_type": "stream",
     "text": [
      "(55999, 62)\n",
      "(14000, 62)\n"
     ]
    }
   ],
   "source": [
    "pca = PCA(0.95, random_state=42)\n",
    "X_train_pca = pca.fit_transform(X_train_scaled)\n",
    "X_test_pca = pca.transform(X_test_scaled)\n",
    "print(X_train_pca.shape)\n",
    "print(X_test_pca.shape)\n"
   ]
  },
  {
   "cell_type": "markdown",
   "metadata": {},
   "source": [
    "## 6.4 Logistic Regression after PCA"
   ]
  },
  {
   "cell_type": "code",
   "execution_count": 234,
   "metadata": {},
   "outputs": [],
   "source": [
    "from sklearn.linear_model import LogisticRegression\n",
    "from sklearn import metrics\n",
    "logreg = LogisticRegression()\n",
    "model_pca_logreg = logreg.fit(X_train_pca, y_train)\n",
    "y_test_pred_prob = model_pca_logreg.predict_proba(X_test_pca)[:, 1]\n",
    "\n",
    "accuracy_df = pd.DataFrame(y_test)\n",
    "accuracy_df['pred_prob'] = y_test_pred_prob\n",
    "accuracy_df['pred'] = accuracy_df['pred_prob'].apply(lambda x: 1 if x > 0.35 else 0)"
   ]
  },
  {
   "cell_type": "code",
   "execution_count": 235,
   "metadata": {},
   "outputs": [
    {
     "name": "stdout",
     "output_type": "stream",
     "text": [
      "0.88\n",
      "0.9107857142857143\n"
     ]
    }
   ],
   "source": [
    "print(\"{:2.2}\".format(metrics.roc_auc_score(y_test, y_test_pred_prob)))\n",
    "print(metrics.accuracy_score(accuracy_df['churn_probability'], accuracy_df['pred']))"
   ]
  },
  {
   "cell_type": "markdown",
   "metadata": {},
   "source": [
    "# 7. Get predictions on unseen data"
   ]
  },
  {
   "cell_type": "code",
   "execution_count": 239,
   "metadata": {},
   "outputs": [],
   "source": [
    "test = pd.read_csv('test.csv')"
   ]
  },
  {
   "cell_type": "code",
   "execution_count": 237,
   "metadata": {},
   "outputs": [
    {
     "data": {
      "text/html": [
       "<div>\n",
       "<style scoped>\n",
       "    .dataframe tbody tr th:only-of-type {\n",
       "        vertical-align: middle;\n",
       "    }\n",
       "\n",
       "    .dataframe tbody tr th {\n",
       "        vertical-align: top;\n",
       "    }\n",
       "\n",
       "    .dataframe thead th {\n",
       "        text-align: right;\n",
       "    }\n",
       "</style>\n",
       "<table border=\"1\" class=\"dataframe\">\n",
       "  <thead>\n",
       "    <tr style=\"text-align: right;\">\n",
       "      <th></th>\n",
       "      <th>id</th>\n",
       "      <th>circle_id</th>\n",
       "      <th>loc_og_t2o_mou</th>\n",
       "      <th>std_og_t2o_mou</th>\n",
       "      <th>loc_ic_t2o_mou</th>\n",
       "      <th>last_date_of_month_6</th>\n",
       "      <th>last_date_of_month_7</th>\n",
       "      <th>last_date_of_month_8</th>\n",
       "      <th>arpu_6</th>\n",
       "      <th>arpu_7</th>\n",
       "      <th>...</th>\n",
       "      <th>sachet_3g_6</th>\n",
       "      <th>sachet_3g_7</th>\n",
       "      <th>sachet_3g_8</th>\n",
       "      <th>fb_user_6</th>\n",
       "      <th>fb_user_7</th>\n",
       "      <th>fb_user_8</th>\n",
       "      <th>aon</th>\n",
       "      <th>aug_vbc_3g</th>\n",
       "      <th>jul_vbc_3g</th>\n",
       "      <th>jun_vbc_3g</th>\n",
       "    </tr>\n",
       "  </thead>\n",
       "  <tbody>\n",
       "    <tr>\n",
       "      <th>0</th>\n",
       "      <td>69999</td>\n",
       "      <td>109</td>\n",
       "      <td>0.0</td>\n",
       "      <td>0.0</td>\n",
       "      <td>0.0</td>\n",
       "      <td>6/30/2014</td>\n",
       "      <td>7/31/2014</td>\n",
       "      <td>8/31/2014</td>\n",
       "      <td>91.882</td>\n",
       "      <td>65.330</td>\n",
       "      <td>...</td>\n",
       "      <td>0</td>\n",
       "      <td>0</td>\n",
       "      <td>0</td>\n",
       "      <td>NaN</td>\n",
       "      <td>NaN</td>\n",
       "      <td>NaN</td>\n",
       "      <td>1692</td>\n",
       "      <td>0.00</td>\n",
       "      <td>0.00</td>\n",
       "      <td>0.00</td>\n",
       "    </tr>\n",
       "    <tr>\n",
       "      <th>1</th>\n",
       "      <td>70000</td>\n",
       "      <td>109</td>\n",
       "      <td>0.0</td>\n",
       "      <td>0.0</td>\n",
       "      <td>0.0</td>\n",
       "      <td>6/30/2014</td>\n",
       "      <td>7/31/2014</td>\n",
       "      <td>8/31/2014</td>\n",
       "      <td>414.168</td>\n",
       "      <td>515.568</td>\n",
       "      <td>...</td>\n",
       "      <td>0</td>\n",
       "      <td>0</td>\n",
       "      <td>0</td>\n",
       "      <td>NaN</td>\n",
       "      <td>NaN</td>\n",
       "      <td>NaN</td>\n",
       "      <td>2533</td>\n",
       "      <td>0.00</td>\n",
       "      <td>0.00</td>\n",
       "      <td>0.00</td>\n",
       "    </tr>\n",
       "    <tr>\n",
       "      <th>2</th>\n",
       "      <td>70001</td>\n",
       "      <td>109</td>\n",
       "      <td>0.0</td>\n",
       "      <td>0.0</td>\n",
       "      <td>0.0</td>\n",
       "      <td>6/30/2014</td>\n",
       "      <td>7/31/2014</td>\n",
       "      <td>8/31/2014</td>\n",
       "      <td>329.844</td>\n",
       "      <td>434.884</td>\n",
       "      <td>...</td>\n",
       "      <td>0</td>\n",
       "      <td>0</td>\n",
       "      <td>0</td>\n",
       "      <td>NaN</td>\n",
       "      <td>NaN</td>\n",
       "      <td>NaN</td>\n",
       "      <td>277</td>\n",
       "      <td>525.61</td>\n",
       "      <td>758.41</td>\n",
       "      <td>241.84</td>\n",
       "    </tr>\n",
       "    <tr>\n",
       "      <th>3</th>\n",
       "      <td>70002</td>\n",
       "      <td>109</td>\n",
       "      <td>0.0</td>\n",
       "      <td>0.0</td>\n",
       "      <td>0.0</td>\n",
       "      <td>6/30/2014</td>\n",
       "      <td>7/31/2014</td>\n",
       "      <td>8/31/2014</td>\n",
       "      <td>43.550</td>\n",
       "      <td>171.390</td>\n",
       "      <td>...</td>\n",
       "      <td>0</td>\n",
       "      <td>0</td>\n",
       "      <td>0</td>\n",
       "      <td>NaN</td>\n",
       "      <td>NaN</td>\n",
       "      <td>NaN</td>\n",
       "      <td>1244</td>\n",
       "      <td>0.00</td>\n",
       "      <td>0.00</td>\n",
       "      <td>0.00</td>\n",
       "    </tr>\n",
       "    <tr>\n",
       "      <th>4</th>\n",
       "      <td>70003</td>\n",
       "      <td>109</td>\n",
       "      <td>0.0</td>\n",
       "      <td>0.0</td>\n",
       "      <td>0.0</td>\n",
       "      <td>6/30/2014</td>\n",
       "      <td>7/31/2014</td>\n",
       "      <td>8/31/2014</td>\n",
       "      <td>306.854</td>\n",
       "      <td>406.289</td>\n",
       "      <td>...</td>\n",
       "      <td>0</td>\n",
       "      <td>0</td>\n",
       "      <td>0</td>\n",
       "      <td>NaN</td>\n",
       "      <td>NaN</td>\n",
       "      <td>NaN</td>\n",
       "      <td>462</td>\n",
       "      <td>0.00</td>\n",
       "      <td>0.00</td>\n",
       "      <td>0.00</td>\n",
       "    </tr>\n",
       "  </tbody>\n",
       "</table>\n",
       "<p>5 rows × 171 columns</p>\n",
       "</div>"
      ],
      "text/plain": [
       "      id  circle_id  loc_og_t2o_mou  std_og_t2o_mou  loc_ic_t2o_mou  \\\n",
       "0  69999        109             0.0             0.0             0.0   \n",
       "1  70000        109             0.0             0.0             0.0   \n",
       "2  70001        109             0.0             0.0             0.0   \n",
       "3  70002        109             0.0             0.0             0.0   \n",
       "4  70003        109             0.0             0.0             0.0   \n",
       "\n",
       "  last_date_of_month_6 last_date_of_month_7 last_date_of_month_8   arpu_6  \\\n",
       "0            6/30/2014            7/31/2014            8/31/2014   91.882   \n",
       "1            6/30/2014            7/31/2014            8/31/2014  414.168   \n",
       "2            6/30/2014            7/31/2014            8/31/2014  329.844   \n",
       "3            6/30/2014            7/31/2014            8/31/2014   43.550   \n",
       "4            6/30/2014            7/31/2014            8/31/2014  306.854   \n",
       "\n",
       "    arpu_7  ...  sachet_3g_6  sachet_3g_7  sachet_3g_8  fb_user_6  fb_user_7  \\\n",
       "0   65.330  ...            0            0            0        NaN        NaN   \n",
       "1  515.568  ...            0            0            0        NaN        NaN   \n",
       "2  434.884  ...            0            0            0        NaN        NaN   \n",
       "3  171.390  ...            0            0            0        NaN        NaN   \n",
       "4  406.289  ...            0            0            0        NaN        NaN   \n",
       "\n",
       "   fb_user_8   aon  aug_vbc_3g  jul_vbc_3g  jun_vbc_3g  \n",
       "0        NaN  1692        0.00        0.00        0.00  \n",
       "1        NaN  2533        0.00        0.00        0.00  \n",
       "2        NaN   277      525.61      758.41      241.84  \n",
       "3        NaN  1244        0.00        0.00        0.00  \n",
       "4        NaN   462        0.00        0.00        0.00  \n",
       "\n",
       "[5 rows x 171 columns]"
      ]
     },
     "execution_count": 237,
     "metadata": {},
     "output_type": "execute_result"
    }
   ],
   "source": [
    "test.head()"
   ]
  },
  {
   "cell_type": "markdown",
   "metadata": {},
   "source": [
    "## 7.1 run the same transformations on test data"
   ]
  },
  {
   "cell_type": "code",
   "execution_count": 240,
   "metadata": {},
   "outputs": [
    {
     "name": "stdout",
     "output_type": "stream",
     "text": [
      "col = id, lower = 0, upper = 143796.53999999998, shape = (30000, 158)\n",
      "col = arpu_6, lower = -2145.734669999991, upper = 3576.224449999985, shape = (30000, 158)\n",
      "col = arpu_7, lower = -2176.8675449999987, upper = 3628.112574999998, shape = (30000, 158)\n",
      "col = arpu_8, lower = -2224.6309049999995, upper = 3707.718174999999, shape = (30000, 158)\n",
      "col = onnet_mou_6, lower = 0, upper = 3395.801749999988, shape = (30000, 158)\n",
      "col = onnet_mou_7, lower = 0, upper = 3670.4652499999975, shape = (30000, 158)\n",
      "col = onnet_mou_8, lower = 0, upper = 3658.4692499999883, shape = (30000, 158)\n",
      "col = offnet_mou_6, lower = 0, upper = 3763.6734999999885, shape = (30000, 158)\n",
      "col = offnet_mou_7, lower = 0, upper = 3849.231749999999, shape = (30000, 158)\n",
      "col = offnet_mou_8, lower = 0, upper = 3774.4282499999954, shape = (30000, 158)\n",
      "col = roam_ic_mou_6, lower = 0, upper = 533.4649999999975, shape = (30000, 158)\n",
      "col = roam_ic_mou_7, lower = 0, upper = 375.95749999999884, shape = (30000, 158)\n",
      "col = roam_ic_mou_8, lower = 0, upper = 405.2592499999945, shape = (30000, 158)\n",
      "col = roam_og_mou_6, lower = 0, upper = 674.4774999999997, shape = (30000, 158)\n",
      "col = roam_og_mou_7, lower = 0, upper = 530.1037499999993, shape = (30000, 158)\n",
      "col = roam_og_mou_8, lower = 0, upper = 588.3352499999984, shape = (30000, 158)\n",
      "col = loc_og_t2t_mou_6, lower = 0, upper = 1373.2249999999958, shape = (30000, 158)\n",
      "col = loc_og_t2t_mou_7, lower = 0, upper = 1367.3224999999923, shape = (30000, 158)\n",
      "col = loc_og_t2t_mou_8, lower = 0, upper = 1295.3929999999932, shape = (30000, 158)\n",
      "col = loc_og_t2m_mou_6, lower = 0, upper = 1845.736749999998, shape = (30000, 158)\n",
      "col = loc_og_t2m_mou_7, lower = 0, upper = 1853.7442499999968, shape = (30000, 158)\n",
      "col = loc_og_t2m_mou_8, lower = 0, upper = 1833.291249999997, shape = (30000, 158)\n",
      "col = loc_og_t2f_mou_6, lower = 0, upper = 136.325, shape = (30000, 158)\n",
      "col = loc_og_t2f_mou_7, lower = 0, upper = 136.07574999999989, shape = (30000, 158)\n",
      "col = loc_og_t2f_mou_8, lower = 0, upper = 132.97674999999973, shape = (30000, 158)\n",
      "col = loc_og_t2c_mou_6, lower = 0, upper = 50.95, shape = (30000, 158)\n",
      "col = loc_og_t2c_mou_7, lower = 0, upper = 57.72549999999992, shape = (30000, 158)\n",
      "col = loc_og_t2c_mou_8, lower = 0, upper = 62.6512499999998, shape = (30000, 158)\n",
      "col = loc_og_mou_6, lower = 0, upper = 2924.9079999999904, shape = (30000, 158)\n",
      "col = loc_og_mou_7, lower = 0, upper = 2880.8644999999933, shape = (30000, 158)\n",
      "col = loc_og_mou_8, lower = 0, upper = 2853.2904999999973, shape = (30000, 158)\n",
      "col = std_og_t2t_mou_6, lower = 0, upper = 2914.4142499999975, shape = (30000, 158)\n",
      "col = std_og_t2t_mou_7, lower = 0, upper = 3186.248499999996, shape = (30000, 158)\n",
      "col = std_og_t2t_mou_8, lower = 0, upper = 3149.358999999994, shape = (30000, 158)\n",
      "col = std_og_t2m_mou_6, lower = 0, upper = 2905.1157499999936, shape = (30000, 158)\n",
      "col = std_og_t2m_mou_7, lower = 0, upper = 3105.8672499999975, shape = (30000, 158)\n",
      "col = std_og_t2m_mou_8, lower = 0, upper = 2937.6017499999875, shape = (30000, 158)\n",
      "col = std_og_t2f_mou_6, lower = 0, upper = 62.900000000000006, shape = (30000, 158)\n",
      "col = std_og_t2f_mou_7, lower = 0, upper = 62.15049999999992, shape = (30000, 158)\n",
      "col = std_og_t2f_mou_8, lower = 0, upper = 58.828749999999395, shape = (30000, 158)\n",
      "col = std_og_mou_6, lower = 0, upper = 4442.305499999988, shape = (30000, 158)\n",
      "col = std_og_mou_7, lower = 0, upper = 4713.241749999997, shape = (30000, 158)\n",
      "col = std_og_mou_8, lower = 0, upper = 4770.507249999995, shape = (30000, 158)\n",
      "col = isd_og_mou_6, lower = 0, upper = 17.47549999999992, shape = (30000, 158)\n",
      "col = isd_og_mou_7, lower = 0, upper = 20.4, shape = (30000, 158)\n",
      "col = isd_og_mou_8, lower = 0, upper = 16.40049999999992, shape = (30000, 158)\n",
      "col = spl_og_mou_6, lower = 0, upper = 123.02799999999952, shape = (30000, 158)\n",
      "col = spl_og_mou_7, lower = 0, upper = 150.35299999999953, shape = (30000, 158)\n",
      "col = spl_og_mou_8, lower = 0, upper = 148.8262499999998, shape = (30000, 158)\n",
      "col = og_others_6, lower = 0, upper = 17.07524999999996, shape = (30000, 158)\n",
      "col = og_others_7, lower = 0, upper = 0.0, shape = (30000, 158)\n",
      "col = og_others_8, lower = 0, upper = 0.0, shape = (30000, 158)\n",
      "col = total_og_mou_6, lower = 0, upper = 5384.388249999991, shape = (30000, 158)\n",
      "col = total_og_mou_7, lower = 0, upper = 5638.300249999986, shape = (30000, 158)\n",
      "col = total_og_mou_8, lower = 0, upper = 5660.458749999998, shape = (30000, 158)\n",
      "col = loc_ic_t2t_mou_6, lower = 0, upper = 1192.0282499999994, shape = (30000, 158)\n",
      "col = loc_ic_t2t_mou_7, lower = 0, upper = 1202.987499999994, shape = (30000, 158)\n",
      "col = loc_ic_t2t_mou_8, lower = 0, upper = 1170.555749999995, shape = (30000, 158)\n",
      "col = loc_ic_t2m_mou_6, lower = 0, upper = 1918.218749999997, shape = (30000, 158)\n",
      "col = loc_ic_t2m_mou_7, lower = 0, upper = 1951.079999999999, shape = (30000, 158)\n",
      "col = loc_ic_t2m_mou_8, lower = 0, upper = 1887.1024999999997, shape = (30000, 158)\n",
      "col = loc_ic_t2f_mou_6, lower = 0, upper = 395.20025, shape = (30000, 158)\n",
      "col = loc_ic_t2f_mou_7, lower = 0, upper = 431.2089999999986, shape = (30000, 158)\n",
      "col = loc_ic_t2f_mou_8, lower = 0, upper = 386.4824999999988, shape = (30000, 158)\n",
      "col = loc_ic_mou_6, lower = 0, upper = 2908.5765, shape = (30000, 158)\n",
      "col = loc_ic_mou_7, lower = 0, upper = 2930.9797499999795, shape = (30000, 158)\n",
      "col = loc_ic_mou_8, lower = 0, upper = 2816.4489999999805, shape = (30000, 158)\n",
      "col = std_ic_t2t_mou_6, lower = 0, upper = 352.7367499999981, shape = (30000, 158)\n",
      "col = std_ic_t2t_mou_7, lower = 0, upper = 363.72524999999587, shape = (30000, 158)\n",
      "col = std_ic_t2t_mou_8, lower = 0, upper = 350.7027499999996, shape = (30000, 158)\n",
      "col = std_ic_t2m_mou_6, lower = 0, upper = 642.7299999999991, shape = (30000, 158)\n",
      "col = std_ic_t2m_mou_7, lower = 0, upper = 696.7019999999997, shape = (30000, 158)\n",
      "col = std_ic_t2m_mou_8, lower = 0, upper = 650.5699999999928, shape = (30000, 158)\n",
      "col = std_ic_t2f_mou_6, lower = 0, upper = 105.1049999999992, shape = (30000, 158)\n",
      "col = std_ic_t2f_mou_7, lower = 0, upper = 105.45124999999979, shape = (30000, 158)\n",
      "col = std_ic_t2f_mou_8, lower = 0, upper = 95.90049999999994, shape = (30000, 158)\n",
      "col = std_ic_mou_6, lower = 0, upper = 987.2114999999981, shape = (30000, 158)\n",
      "col = std_ic_mou_7, lower = 0, upper = 1016.6199999999967, shape = (30000, 158)\n",
      "col = std_ic_mou_8, lower = 0, upper = 975.9417499999934, shape = (30000, 158)\n",
      "col = total_ic_mou_6, lower = 0, upper = 3441.50774999999, shape = (30000, 158)\n",
      "col = total_ic_mou_7, lower = 0, upper = 3582.6349999999943, shape = (30000, 158)\n",
      "col = total_ic_mou_8, lower = 0, upper = 3442.922499999997, shape = (30000, 158)\n",
      "col = spl_ic_mou_6, lower = 0, upper = 1.625, shape = (30000, 158)\n",
      "col = spl_ic_mou_7, lower = 0, upper = 1.5750000000000002, shape = (30000, 158)\n",
      "col = spl_ic_mou_8, lower = 0, upper = 1.7000000000000002, shape = (30000, 158)\n",
      "col = isd_ic_mou_6, lower = 0, upper = 402.8352499999984, shape = (30000, 158)\n",
      "col = isd_ic_mou_7, lower = 0, upper = 426.8847499999944, shape = (30000, 158)\n",
      "col = isd_ic_mou_8, lower = 0, upper = 436.54199999999736, shape = (30000, 158)\n",
      "col = ic_others_6, lower = 0, upper = 32.57574999999987, shape = (30000, 158)\n",
      "col = ic_others_7, lower = 0, upper = 44.22500000000001, shape = (30000, 158)\n",
      "col = ic_others_8, lower = 0, upper = 41.22549999999991, shape = (30000, 158)\n",
      "col = total_rech_amt_6, lower = 0, upper = 4207.674999999972, shape = (30000, 158)\n",
      "col = total_rech_amt_7, lower = 0, upper = 4380.049999999992, shape = (30000, 158)\n",
      "col = total_rech_amt_8, lower = 0, upper = 4395.0, shape = (30000, 158)\n",
      "col = max_rech_amt_6, lower = 0, upper = 1375.0, shape = (30000, 158)\n",
      "col = max_rech_amt_7, lower = 0, upper = 1375.0, shape = (30000, 158)\n",
      "col = max_rech_amt_8, lower = 0, upper = 1375.0, shape = (30000, 158)\n",
      "col = last_day_rch_amt_6, lower = 0, upper = 1000.0, shape = (30000, 158)\n",
      "col = last_day_rch_amt_7, lower = 0, upper = 1000.0, shape = (30000, 158)\n",
      "col = last_day_rch_amt_8, lower = 0, upper = 1137.5, shape = (30000, 158)\n",
      "col = av_rech_amt_data_6, lower = 0, upper = 1262.5, shape = (30000, 158)\n",
      "col = av_rech_amt_data_7, lower = 0, upper = 1390.0, shape = (30000, 158)\n",
      "col = av_rech_amt_data_8, lower = 0, upper = 1432.574999999988, shape = (30000, 158)\n",
      "col = vol_2g_mb_6, lower = 0, upper = 2573.342999999997, shape = (30000, 158)\n",
      "col = vol_2g_mb_7, lower = 0, upper = 2443.431999999987, shape = (30000, 158)\n",
      "col = vol_2g_mb_8, lower = 0, upper = 2419.697999999992, shape = (30000, 158)\n",
      "col = vol_3g_mb_6, lower = 0, upper = 5426.668999999982, shape = (30000, 158)\n",
      "col = vol_3g_mb_7, lower = 0, upper = 5734.804749999996, shape = (30000, 158)\n",
      "col = vol_3g_mb_8, lower = 0, upper = 6021.50899999998, shape = (30000, 158)\n",
      "col = arpu_3g_6, lower = -696.5477999999987, upper = 1160.9129999999977, shape = (30000, 158)\n",
      "col = arpu_3g_7, lower = -717.4822499999996, upper = 1195.8037499999994, shape = (30000, 158)\n",
      "col = arpu_3g_8, lower = -724.3460999999959, upper = 1207.2434999999932, shape = (30000, 158)\n",
      "col = arpu_2g_6, lower = -637.86, upper = 1063.1, shape = (30000, 158)\n",
      "col = arpu_2g_7, lower = -636.51, upper = 1060.85, shape = (30000, 158)\n",
      "col = arpu_2g_8, lower = -636.5251499999999, upper = 1060.87525, shape = (30000, 158)\n",
      "col = aon, lower = 0, upper = 8844.0, shape = (30000, 158)\n",
      "col = aug_vbc_3g, lower = 0, upper = 3157.4479999999926, shape = (30000, 158)\n",
      "col = jul_vbc_3g, lower = 0, upper = 3292.4837499999944, shape = (30000, 158)\n",
      "col = jun_vbc_3g, lower = 0, upper = 2954.115499999977, shape = (30000, 158)\n"
     ]
    },
    {
     "name": "stderr",
     "output_type": "stream",
     "text": [
      "/var/folders/wn/_ww3bv4j7r31s6vbkjxd4l9h0000gn/T/ipykernel_91580/563989801.py:98: PerformanceWarning: DataFrame is highly fragmented.  This is usually the result of calling `frame.insert` many times, which has poor performance.  Consider joining all columns at once using pd.concat(axis=1) instead. To get a de-fragmented frame, use `newframe = frame.copy()`\n",
      "  data['loc_ic_withinnetwork_mou_6'] = data.apply(lambda x: x['loc_ic_t2t_mou_6'] + x['loc_ic_t2f_mou_6'], axis=1)\n",
      "/var/folders/wn/_ww3bv4j7r31s6vbkjxd4l9h0000gn/T/ipykernel_91580/563989801.py:99: PerformanceWarning: DataFrame is highly fragmented.  This is usually the result of calling `frame.insert` many times, which has poor performance.  Consider joining all columns at once using pd.concat(axis=1) instead. To get a de-fragmented frame, use `newframe = frame.copy()`\n",
      "  data['loc_ic_withinnetwork_mou_7'] = data.apply(lambda x: x['loc_ic_t2t_mou_7'] + x['loc_ic_t2f_mou_7'], axis=1)\n",
      "/var/folders/wn/_ww3bv4j7r31s6vbkjxd4l9h0000gn/T/ipykernel_91580/563989801.py:100: PerformanceWarning: DataFrame is highly fragmented.  This is usually the result of calling `frame.insert` many times, which has poor performance.  Consider joining all columns at once using pd.concat(axis=1) instead. To get a de-fragmented frame, use `newframe = frame.copy()`\n",
      "  data['loc_ic_withinnetwork_mou_8'] = data.apply(lambda x: x['loc_ic_t2t_mou_8'] + x['loc_ic_t2f_mou_8'], axis=1)\n",
      "/var/folders/wn/_ww3bv4j7r31s6vbkjxd4l9h0000gn/T/ipykernel_91580/563989801.py:102: PerformanceWarning: DataFrame is highly fragmented.  This is usually the result of calling `frame.insert` many times, which has poor performance.  Consider joining all columns at once using pd.concat(axis=1) instead. To get a de-fragmented frame, use `newframe = frame.copy()`\n",
      "  data['loc_og_withinnetwork_mou_6'] = data.apply(lambda x: x['loc_og_t2t_mou_6'] + x['loc_og_t2f_mou_6'] + x['loc_og_t2c_mou_6'], axis=1)\n",
      "/var/folders/wn/_ww3bv4j7r31s6vbkjxd4l9h0000gn/T/ipykernel_91580/563989801.py:103: PerformanceWarning: DataFrame is highly fragmented.  This is usually the result of calling `frame.insert` many times, which has poor performance.  Consider joining all columns at once using pd.concat(axis=1) instead. To get a de-fragmented frame, use `newframe = frame.copy()`\n",
      "  data['loc_og_withinnetwork_mou_7'] = data.apply(lambda x: x['loc_og_t2t_mou_7'] + x['loc_og_t2f_mou_7'] + x['loc_og_t2c_mou_7'], axis=1)\n",
      "/var/folders/wn/_ww3bv4j7r31s6vbkjxd4l9h0000gn/T/ipykernel_91580/563989801.py:104: PerformanceWarning: DataFrame is highly fragmented.  This is usually the result of calling `frame.insert` many times, which has poor performance.  Consider joining all columns at once using pd.concat(axis=1) instead. To get a de-fragmented frame, use `newframe = frame.copy()`\n",
      "  data['loc_og_withinnetwork_mou_8'] = data.apply(lambda x: x['loc_og_t2t_mou_8'] + x['loc_og_t2f_mou_8'] + x['loc_og_t2c_mou_8'], axis=1)\n",
      "/var/folders/wn/_ww3bv4j7r31s6vbkjxd4l9h0000gn/T/ipykernel_91580/563989801.py:106: PerformanceWarning: DataFrame is highly fragmented.  This is usually the result of calling `frame.insert` many times, which has poor performance.  Consider joining all columns at once using pd.concat(axis=1) instead. To get a de-fragmented frame, use `newframe = frame.copy()`\n",
      "  data['std_ic_withinnetwork_mou_6'] = data.apply(lambda x: x['std_ic_t2t_mou_6'] + x['std_ic_t2f_mou_6'], axis=1)\n",
      "/var/folders/wn/_ww3bv4j7r31s6vbkjxd4l9h0000gn/T/ipykernel_91580/563989801.py:107: PerformanceWarning: DataFrame is highly fragmented.  This is usually the result of calling `frame.insert` many times, which has poor performance.  Consider joining all columns at once using pd.concat(axis=1) instead. To get a de-fragmented frame, use `newframe = frame.copy()`\n",
      "  data['std_ic_withinnetwork_mou_7'] = data.apply(lambda x: x['std_ic_t2t_mou_7'] + x['std_ic_t2f_mou_7'], axis=1)\n",
      "/var/folders/wn/_ww3bv4j7r31s6vbkjxd4l9h0000gn/T/ipykernel_91580/563989801.py:108: PerformanceWarning: DataFrame is highly fragmented.  This is usually the result of calling `frame.insert` many times, which has poor performance.  Consider joining all columns at once using pd.concat(axis=1) instead. To get a de-fragmented frame, use `newframe = frame.copy()`\n",
      "  data['std_ic_withinnetwork_mou_8'] = data.apply(lambda x: x['std_ic_t2t_mou_8'] + x['std_ic_t2f_mou_8'], axis=1)\n",
      "/var/folders/wn/_ww3bv4j7r31s6vbkjxd4l9h0000gn/T/ipykernel_91580/563989801.py:110: PerformanceWarning: DataFrame is highly fragmented.  This is usually the result of calling `frame.insert` many times, which has poor performance.  Consider joining all columns at once using pd.concat(axis=1) instead. To get a de-fragmented frame, use `newframe = frame.copy()`\n",
      "  data['std_og_withinnetwork_mou_6'] = data.apply(lambda x: x['std_og_t2t_mou_6'] + x['std_og_t2f_mou_6'], axis=1)\n",
      "/var/folders/wn/_ww3bv4j7r31s6vbkjxd4l9h0000gn/T/ipykernel_91580/563989801.py:111: PerformanceWarning: DataFrame is highly fragmented.  This is usually the result of calling `frame.insert` many times, which has poor performance.  Consider joining all columns at once using pd.concat(axis=1) instead. To get a de-fragmented frame, use `newframe = frame.copy()`\n",
      "  data['std_og_withinnetwork_mou_7'] = data.apply(lambda x: x['std_og_t2t_mou_7'] + x['std_og_t2f_mou_7'], axis=1)\n",
      "/var/folders/wn/_ww3bv4j7r31s6vbkjxd4l9h0000gn/T/ipykernel_91580/563989801.py:112: PerformanceWarning: DataFrame is highly fragmented.  This is usually the result of calling `frame.insert` many times, which has poor performance.  Consider joining all columns at once using pd.concat(axis=1) instead. To get a de-fragmented frame, use `newframe = frame.copy()`\n",
      "  data['std_og_withinnetwork_mou_8'] = data.apply(lambda x: x['std_og_t2t_mou_8'] + x['std_og_t2f_mou_8'], axis=1)\n"
     ]
    }
   ],
   "source": [
    "data = test\n",
    "data['circle_id'].unique() # contains on 109, can be removed\n",
    "data = data.drop(columns=['circle_id'])\n",
    "\n",
    "data['loc_og_t2o_mou'].value_counts() # about 69k are 0 and remaining are nan, can be dropped\n",
    "data = data.drop(columns=['loc_og_t2o_mou'])\n",
    "\n",
    "data['std_og_t2o_mou'].value_counts() # about 69k are 0 and remaining are nan, can be dropped\n",
    "data = data.drop(columns=['std_og_t2o_mou'])\n",
    "\n",
    "data['loc_ic_t2o_mou'].value_counts() # about 69k are 0 and remaining are nan, can be dropped\n",
    "data = data.drop(columns=['loc_ic_t2o_mou'])\n",
    "\n",
    "data['std_og_t2c_mou_6'].value_counts() # about 67k are 0 and remaining are nan, can be dropped\n",
    "data = data.drop(columns=['std_og_t2c_mou_6'])\n",
    "\n",
    "data['std_og_t2c_mou_7'].value_counts() # about 67k are 0 and remaining are nan, can be dropped\n",
    "data = data.drop(columns=['std_og_t2c_mou_7'])\n",
    "\n",
    "data['std_og_t2c_mou_8'].value_counts() # about 66k are 0 and remaining are nan, can be dropped\n",
    "data = data.drop(columns=['std_og_t2c_mou_8'])\n",
    "\n",
    "data['std_ic_t2o_mou_6'].value_counts() # about 67k are 0 and remaining are nan, can be dropped\n",
    "data = data.drop(columns=['std_ic_t2o_mou_6'])\n",
    "\n",
    "data['std_ic_t2o_mou_7'].value_counts() # about 67k are 0 and remaining are nan, can be dropped\n",
    "data = data.drop(columns=['std_ic_t2o_mou_7'])\n",
    "\n",
    "data['std_ic_t2o_mou_8'].value_counts() # about 66k are 0 and remaining are nan, can be dropped\n",
    "data = data.drop(columns=['std_ic_t2o_mou_8'])\n",
    "\n",
    "data['last_date_of_month_6'].value_counts() # all of them have same value\n",
    "data = data.drop(columns=['last_date_of_month_6'])\n",
    "\n",
    "data['last_date_of_month_7'].value_counts() # about 69k have same value, remaining few are nan\n",
    "data = data.drop(columns=['last_date_of_month_7'])\n",
    "\n",
    "data['last_date_of_month_8'].value_counts() # about 69k have same value, remaining few are nan\n",
    "data = data.drop(columns=['last_date_of_month_8'])\n",
    "\n",
    "data['date_of_last_rech_6'] = pd.to_datetime(data['date_of_last_rech_6'])\n",
    "data['date_of_last_rech_7'] = pd.to_datetime(data['date_of_last_rech_7'])\n",
    "data['date_of_last_rech_8'] = pd.to_datetime(data['date_of_last_rech_8'])\n",
    "data['date_of_last_rech_data_6'] = pd.to_datetime(data['date_of_last_rech_data_6'])\n",
    "data['date_of_last_rech_data_7'] = pd.to_datetime(data['date_of_last_rech_data_7'])\n",
    "data['date_of_last_rech_data_8'] = pd.to_datetime(data['date_of_last_rech_data_8'])\n",
    "\n",
    "# treat all mou columns to set na values to median\n",
    "temp = get_missing_value_percentage(data)\n",
    "mou_columns_with_na = temp.index[temp.index.str.contains('mou')]\n",
    "[set_na_to_median(data, column) for column in mou_columns_with_na]\n",
    "\n",
    "# treat all og_others, ic_others to set na values to median\n",
    "[set_na_to_median(data, column) for column in ['og_others_6', 'og_others_7', 'og_others_8','ic_others_6', 'ic_others_7', 'ic_others_8']]\n",
    "\n",
    "# treat all date_of_last_rech to set na values to median\n",
    "[set_na_to_median(data, column) for column in ['date_of_last_rech_6', 'date_of_last_rech_7', 'date_of_last_rech_8']]\n",
    "\n",
    "# set date_of_last_rech_data same as date_of_last_rech\n",
    "condition = data['date_of_last_rech_data_6'].isna()\n",
    "data.loc[condition, 'date_of_last_rech_data_6'] = data.loc[condition, 'date_of_last_rech_6']\n",
    "\n",
    "condition = data['date_of_last_rech_data_7'].isna()\n",
    "data.loc[condition, 'date_of_last_rech_data_7'] = data.loc[condition, 'date_of_last_rech_7']\n",
    "\n",
    "condition = data['date_of_last_rech_data_8'].isna()\n",
    "data.loc[condition, 'date_of_last_rech_data_8'] = data.loc[condition, 'date_of_last_rech_8']\n",
    "\n",
    "# treat all arpu_2g/3g to set na values to median\n",
    "[set_na_to_median(data, column) for column in ['arpu_2g_6', 'arpu_2g_7', 'arpu_2g_8', 'arpu_3g_6', 'arpu_3g_7', 'arpu_3g_8']]\n",
    "\n",
    "# treat all counts of recharges to set na values to 0\n",
    "[set_na_to_value(data, column, 0) for column in ['count_rech_2g_6', 'count_rech_2g_7', 'count_rech_2g_8', 'count_rech_3g_6', 'count_rech_3g_7', 'count_rech_3g_8']]\n",
    "\n",
    "# total_rech_data is a sum of count_rech_2g and count_rech_3g, replacing the value will correct the data and impute missing values\n",
    "data['total_rech_data_6'] = data['count_rech_2g_6'] + data['count_rech_3g_6']\n",
    "data['total_rech_data_7'] = data['count_rech_2g_7'] + data['count_rech_3g_7']\n",
    "data['total_rech_data_8'] = data['count_rech_2g_8'] + data['count_rech_3g_8']\n",
    "\n",
    "# if total_rech_data is 0 (no recharge was done), max_rech_data and av_rech_amt_data is also 0\n",
    "condition = data['total_rech_data_6'] == 0\n",
    "data.loc[condition, 'max_rech_data_6'] = 0\n",
    "data.loc[condition, 'av_rech_amt_data_6'] = 0\n",
    "\n",
    "condition = data['total_rech_data_7'] == 0\n",
    "data.loc[condition, 'max_rech_data_7'] = 0\n",
    "data.loc[condition, 'av_rech_amt_data_7'] = 0\n",
    "\n",
    "condition = data['total_rech_data_8'] == 0\n",
    "data.loc[condition, 'max_rech_data_8'] = 0\n",
    "data.loc[condition, 'av_rech_amt_data_8'] = 0\n",
    "\n",
    "# assuming fb_user, night_pck_user to be 0 if information isn't available and mode is NaN\n",
    "[set_na_to_value(data, column, 0) for column in ['fb_user_6', 'fb_user_7', 'fb_user_8','night_pck_user_6', 'night_pck_user_7', 'night_pck_user_8']]\n",
    "\n",
    "data = automated_outlier_treatment(data, columns_to_remove, 'iqr', threshold=10, type='cap')\n",
    "\n",
    "data['loc_ic_withinnetwork_mou_6'] = data.apply(lambda x: x['loc_ic_t2t_mou_6'] + x['loc_ic_t2f_mou_6'], axis=1)\n",
    "data['loc_ic_withinnetwork_mou_7'] = data.apply(lambda x: x['loc_ic_t2t_mou_7'] + x['loc_ic_t2f_mou_7'], axis=1)\n",
    "data['loc_ic_withinnetwork_mou_8'] = data.apply(lambda x: x['loc_ic_t2t_mou_8'] + x['loc_ic_t2f_mou_8'], axis=1)\n",
    "\n",
    "data['loc_og_withinnetwork_mou_6'] = data.apply(lambda x: x['loc_og_t2t_mou_6'] + x['loc_og_t2f_mou_6'] + x['loc_og_t2c_mou_6'], axis=1)\n",
    "data['loc_og_withinnetwork_mou_7'] = data.apply(lambda x: x['loc_og_t2t_mou_7'] + x['loc_og_t2f_mou_7'] + x['loc_og_t2c_mou_7'], axis=1)\n",
    "data['loc_og_withinnetwork_mou_8'] = data.apply(lambda x: x['loc_og_t2t_mou_8'] + x['loc_og_t2f_mou_8'] + x['loc_og_t2c_mou_8'], axis=1)\n",
    "\n",
    "data['std_ic_withinnetwork_mou_6'] = data.apply(lambda x: x['std_ic_t2t_mou_6'] + x['std_ic_t2f_mou_6'], axis=1)\n",
    "data['std_ic_withinnetwork_mou_7'] = data.apply(lambda x: x['std_ic_t2t_mou_7'] + x['std_ic_t2f_mou_7'], axis=1)\n",
    "data['std_ic_withinnetwork_mou_8'] = data.apply(lambda x: x['std_ic_t2t_mou_8'] + x['std_ic_t2f_mou_8'], axis=1)\n",
    "\n",
    "data['std_og_withinnetwork_mou_6'] = data.apply(lambda x: x['std_og_t2t_mou_6'] + x['std_og_t2f_mou_6'], axis=1)\n",
    "data['std_og_withinnetwork_mou_7'] = data.apply(lambda x: x['std_og_t2t_mou_7'] + x['std_og_t2f_mou_7'], axis=1)\n",
    "data['std_og_withinnetwork_mou_8'] = data.apply(lambda x: x['std_og_t2t_mou_8'] + x['std_og_t2f_mou_8'], axis=1)\n",
    "\n",
    "datetime_columns = data.columns[data.columns.str.contains('')]\n",
    "data['date_of_last_rech_6'] = data['date_of_last_rech_6'].dt.day\n",
    "data['date_of_last_rech_7'] = data['date_of_last_rech_7'].dt.day\n",
    "data['date_of_last_rech_8'] = data['date_of_last_rech_8'].dt.day\n",
    "data['date_of_last_rech_data_6'] = data['date_of_last_rech_data_6'].dt.day\n",
    "data['date_of_last_rech_data_7'] = data['date_of_last_rech_data_7'].dt.day\n",
    "data['date_of_last_rech_data_8'] = data['date_of_last_rech_data_8'].dt.day\n",
    "\n",
    "test = data"
   ]
  },
  {
   "cell_type": "markdown",
   "metadata": {},
   "source": [
    "## 7.2 PCA and Prediction on unseen data"
   ]
  },
  {
   "cell_type": "code",
   "execution_count": 253,
   "metadata": {},
   "outputs": [],
   "source": [
    "test_scaled = pd.DataFrame(scaler.transform(test[df_numerical_columns_to_scale]), columns=df_numerical_columns_to_scale)\n",
    "test_pca = pca.transform(test_scaled)\n",
    "\n",
    "test_pred_prob = model_pca_logreg.predict_proba(test_pca)[:, 1]\n",
    "\n",
    "test['pred_prob'] = test_pred_prob\n",
    "test['churn_probability'] = test['pred_prob'].apply(lambda x: 1 if x > 0.35 else 0)"
   ]
  },
  {
   "cell_type": "code",
   "execution_count": 254,
   "metadata": {},
   "outputs": [
    {
     "data": {
      "text/plain": [
       "churn_probability\n",
       "0    29227\n",
       "1      773\n",
       "Name: count, dtype: int64"
      ]
     },
     "execution_count": 254,
     "metadata": {},
     "output_type": "execute_result"
    }
   ],
   "source": [
    "test['churn_probability'].value_counts()"
   ]
  },
  {
   "cell_type": "code",
   "execution_count": 246,
   "metadata": {},
   "outputs": [],
   "source": [
    "test[['id', 'churn_probability']].to_csv('pca_logreg.csv', index=False)"
   ]
  },
  {
   "cell_type": "code",
   "execution_count": 244,
   "metadata": {},
   "outputs": [
    {
     "data": {
      "text/plain": [
       "churn_probability\n",
       "0    30000\n",
       "Name: count, dtype: int64"
      ]
     },
     "execution_count": 244,
     "metadata": {},
     "output_type": "execute_result"
    }
   ],
   "source": [
    "sample = pd.read_csv('sample.csv')\n",
    "sample['churn_probability'].value_counts()"
   ]
  },
  {
   "cell_type": "markdown",
   "metadata": {},
   "source": [
    "# Conclusions"
   ]
  }
 ],
 "metadata": {
  "kernelspec": {
   "display_name": "aimlenv",
   "language": "python",
   "name": "python3"
  },
  "language_info": {
   "codemirror_mode": {
    "name": "ipython",
    "version": 3
   },
   "file_extension": ".py",
   "mimetype": "text/x-python",
   "name": "python",
   "nbconvert_exporter": "python",
   "pygments_lexer": "ipython3",
   "version": "3.12.4"
  }
 },
 "nbformat": 4,
 "nbformat_minor": 2
}
